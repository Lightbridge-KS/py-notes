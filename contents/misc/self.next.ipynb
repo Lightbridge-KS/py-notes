{
 "cells": [
  {
   "cell_type": "markdown",
   "metadata": {},
   "source": [
    "# Self.next"
   ]
  },
  {
   "cell_type": "code",
   "execution_count": 3,
   "metadata": {},
   "outputs": [
    {
     "name": "stdout",
     "output_type": "stream",
     "text": [
      "10\n",
      "20\n",
      "30\n"
     ]
    }
   ],
   "source": [
    "class Node:\n",
    "    def __init__(self, data):\n",
    "        self.data = data  # The data the node holds\n",
    "        self.next = None  # Pointer to the next node in the list (initially None)\n",
    "\n",
    "# Create nodes\n",
    "node1 = Node(10)\n",
    "node2 = Node(20)\n",
    "node3 = Node(30)\n",
    "\n",
    "# Link the nodes\n",
    "node1.next = node2  # node1 points to node2\n",
    "node2.next = node3  # node2 points to node3\n",
    "\n",
    "# Traversing the list\n",
    "current_node = node1\n",
    "\n",
    "while current_node is not None:\n",
    "    print(current_node.data)\n",
    "    current_node = current_node.next\n"
   ]
  }
 ],
 "metadata": {
  "kernelspec": {
   "display_name": "Python 3",
   "language": "python",
   "name": "python3"
  },
  "language_info": {
   "codemirror_mode": {
    "name": "ipython",
    "version": 3
   },
   "file_extension": ".py",
   "mimetype": "text/x-python",
   "name": "python",
   "nbconvert_exporter": "python",
   "pygments_lexer": "ipython3",
   "version": "3.10.10"
  }
 },
 "nbformat": 4,
 "nbformat_minor": 2
}
