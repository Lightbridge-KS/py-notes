{
 "cells": [
  {
   "cell_type": "markdown",
   "metadata": {},
   "source": [
    "# OOP: Book Catalog"
   ]
  },
  {
   "cell_type": "markdown",
   "metadata": {},
   "source": [
    "## Iteration 1"
   ]
  },
  {
   "cell_type": "markdown",
   "metadata": {},
   "source": [
    "### `Book` Class"
   ]
  },
  {
   "cell_type": "code",
   "execution_count": 6,
   "metadata": {},
   "outputs": [],
   "source": [
    "class Book:\n",
    "    def __init__(self, title, last, first):\n",
    "        self._title = title    #A\n",
    "        self._last  = last     #A\n",
    "        self._first = first    #A\n",
    "        \n",
    "    @property                            #B\n",
    "    def title(self): return self._title  #B\n",
    "                                         #B\n",
    "    @property                            #B\n",
    "    def last(self): return self._last    #B\n",
    "                                         #B\n",
    "    @property                            #B\n",
    "    def first(self): return self._first  #B\n",
    "\n",
    "    def __str__(self):\n",
    "        return (f\"{{TITLE: '{self._title}', LAST: '{self._last}', \"  #C\n",
    "                f\"FIRST: '{self._first}'}}\")                         #C"
   ]
  },
  {
   "cell_type": "markdown",
   "metadata": {},
   "source": [
    "### `Catalogue` Class"
   ]
  },
  {
   "cell_type": "code",
   "execution_count": 7,
   "metadata": {},
   "outputs": [],
   "source": [
    "class Catalogue:\n",
    "\n",
    "    @staticmethod\n",
    "    def _equal_ignore_case(target_str, other_str):\n",
    "        if len(target_str) == 0:   \n",
    "            return True\n",
    "        else:\n",
    "            return target_str.casefold() == other_str.casefold()    \n",
    "\n",
    "    def __init__(self):\n",
    "        self._booklist = []    \n",
    "        \n",
    "    def add(self, title, last, first):\n",
    "        book = Book(title, last, first)\n",
    "        self._booklist.append(book)\n",
    "    \n",
    "    def _is_match(self, book, target):\n",
    "        return (     Catalogue._equal_ignore_case(target.title, \n",
    "                                                  book.title)\n",
    "                 and Catalogue._equal_ignore_case(target.last,  \n",
    "                                                  book.last)\n",
    "                 and Catalogue._equal_ignore_case(target.first, \n",
    "                                                  book.first)\n",
    "        )\n",
    "    \n",
    "    def find(self, target):\n",
    "        return [book for book in self._booklist\n",
    "                    if self._is_match(book, target)\n",
    "        ]"
   ]
  },
  {
   "cell_type": "markdown",
   "metadata": {},
   "source": [
    "### Usage"
   ]
  },
  {
   "cell_type": "code",
   "execution_count": 23,
   "metadata": {},
   "outputs": [
    {
     "ename": "TypeError",
     "evalue": "Catalogue.add() takes 2 positional arguments but 4 were given",
     "output_type": "error",
     "traceback": [
      "\u001b[0;31m---------------------------------------------------------------------------\u001b[0m",
      "\u001b[0;31mTypeError\u001b[0m                                 Traceback (most recent call last)",
      "Cell \u001b[0;32mIn[23], line 49\u001b[0m\n\u001b[1;32m     45\u001b[0m     search(catalogue, target)\n\u001b[1;32m     48\u001b[0m catalogue \u001b[38;5;241m=\u001b[39m Catalogue()    \n\u001b[0;32m---> 49\u001b[0m \u001b[43mfill\u001b[49m\u001b[43m(\u001b[49m\u001b[43mcatalogue\u001b[49m\u001b[43m)\u001b[49m    \n\u001b[1;32m     50\u001b[0m test(catalogue)    \n",
      "Cell \u001b[0;32mIn[23], line 2\u001b[0m, in \u001b[0;36mfill\u001b[0;34m(catalogue)\u001b[0m\n\u001b[1;32m      1\u001b[0m \u001b[38;5;28;01mdef\u001b[39;00m \u001b[38;5;21mfill\u001b[39m(catalogue):    \u001b[38;5;66;03m#A\u001b[39;00m\n\u001b[0;32m----> 2\u001b[0m     \u001b[43mcatalogue\u001b[49m\u001b[38;5;241;43m.\u001b[39;49m\u001b[43madd\u001b[49m\u001b[43m(\u001b[49m\u001b[38;5;124;43m\"\u001b[39;49m\u001b[38;5;124;43mLife of Pi\u001b[39;49m\u001b[38;5;124;43m\"\u001b[39;49m\u001b[43m,\u001b[49m\u001b[43m \u001b[49m\u001b[38;5;124;43m\"\u001b[39;49m\u001b[38;5;124;43mMartel\u001b[39;49m\u001b[38;5;124;43m\"\u001b[39;49m\u001b[43m,\u001b[49m\u001b[43m \u001b[49m\u001b[38;5;124;43m\"\u001b[39;49m\u001b[38;5;124;43mYann\u001b[39;49m\u001b[38;5;124;43m\"\u001b[39;49m\u001b[43m)\u001b[49m\n\u001b[1;32m      3\u001b[0m     catalogue\u001b[38;5;241m.\u001b[39madd(\u001b[38;5;124m\"\u001b[39m\u001b[38;5;124mThe Call of the Wild\u001b[39m\u001b[38;5;124m\"\u001b[39m, \u001b[38;5;124m\"\u001b[39m\u001b[38;5;124mLondon\u001b[39m\u001b[38;5;124m\"\u001b[39m, \u001b[38;5;124m\"\u001b[39m\u001b[38;5;124mJack\u001b[39m\u001b[38;5;124m\"\u001b[39m)\n\u001b[1;32m      5\u001b[0m     catalogue\u001b[38;5;241m.\u001b[39madd(\u001b[38;5;124m\"\u001b[39m\u001b[38;5;124mTo Kill a Mockingbird\u001b[39m\u001b[38;5;124m\"\u001b[39m, \u001b[38;5;124m\"\u001b[39m\u001b[38;5;124mLee\u001b[39m\u001b[38;5;124m\"\u001b[39m, \u001b[38;5;124m\"\u001b[39m\u001b[38;5;124mHarper\u001b[39m\u001b[38;5;124m\"\u001b[39m)\n",
      "\u001b[0;31mTypeError\u001b[0m: Catalogue.add() takes 2 positional arguments but 4 were given"
     ]
    }
   ],
   "source": [
    "def fill(catalogue):    #A\n",
    "    catalogue.add(\"Life of Pi\", \"Martel\", \"Yann\")\n",
    "    catalogue.add(\"The Call of the Wild\", \"London\", \"Jack\")\n",
    "\n",
    "    catalogue.add(\"To Kill a Mockingbird\", \"Lee\", \"Harper\")\n",
    "    catalogue.add(\"Little Women\", \"Alcott\", \"Louisa\")\n",
    "\n",
    "    catalogue.add(\"The Adventures of Sherlock Holmes\", \"Doyle\", \"Conan\")\n",
    "    catalogue.add(\"And Then There Were None\", \"Christie\", \"Agatha\")\n",
    "\n",
    "    catalogue.add(\"Carrie\", \"King\", \"Stephen\")\n",
    "    catalogue.add(\"It: A Novel\", \"King\", \"Stephen\")\n",
    "    catalogue.add(\"Frankenstein\", \"Shelley\", \"Mary\")\n",
    "\n",
    "    catalogue.add(\"2001: A Space Odyssey\", \"Clarke\", \"Arthur\")\n",
    "    catalogue.add(\"Ender's Game\", \"Card\", \"Orson\")\n",
    "\n",
    "def search(catalogue, target):    #B\n",
    "    print()\n",
    "    print(\"Find \", end=\"\")\n",
    "    print(target)\n",
    "    \n",
    "    matches = catalogue.find(target)\n",
    "    \n",
    "    if len(matches) == 0:\n",
    "        print(\"No matches.\")\n",
    "    else:\n",
    "        print(\"Matches:\")\n",
    "        \n",
    "        for book in matches:\n",
    "            print(\"  \", end=\"\")\n",
    "            print(book)\n",
    "            \n",
    "def test(catalogue):    #C\n",
    "    target = Book(\"Life of Pi\", \"Martel\", \"Yann\")\n",
    "    search(catalogue, target)\n",
    "\n",
    "    target = Book(\"\", \"King\", \"\")\n",
    "    search(catalogue, target)\n",
    "    \n",
    "    target = Book(\"1984\", \"Orwell\", \"George\")\n",
    "    search(catalogue, target)\n",
    "\n",
    "    target = Book(\"\", \"\", \"\")    #D\n",
    "    search(catalogue, target)\n",
    "\n",
    "\n",
    "catalogue = Catalogue()    \n",
    "fill(catalogue)    \n",
    "test(catalogue)    "
   ]
  },
  {
   "cell_type": "markdown",
   "metadata": {},
   "source": [
    "## Iteration 2"
   ]
  },
  {
   "cell_type": "markdown",
   "metadata": {},
   "source": [
    "### `Genre(Enum)`"
   ]
  },
  {
   "cell_type": "code",
   "execution_count": 1,
   "metadata": {},
   "outputs": [],
   "source": [
    "from enum import Enum\n",
    " \n",
    "class Genre(Enum):    #A\n",
    "    UNSPECIFIED = 0\n",
    "    ADVENTURE   = 1\n",
    "    CLASSICS    = 2\n",
    "    DETECTIVE   = 3\n",
    "    FANTASY     = 4\n",
    "    HISTORIC    = 5\n",
    "    HORROR      = 6\n",
    "    ROMANCE     = 7\n",
    "    SCIFI       = 8\n",
    "    \n",
    "    def __str__(self): return self.name.lower()"
   ]
  },
  {
   "cell_type": "code",
   "execution_count": 16,
   "metadata": {},
   "outputs": [
    {
     "data": {
      "text/plain": [
       "<Genre.ADVENTURE: 1>"
      ]
     },
     "execution_count": 16,
     "metadata": {},
     "output_type": "execute_result"
    }
   ],
   "source": [
    "Genre.ADVENTURE"
   ]
  },
  {
   "cell_type": "code",
   "execution_count": 14,
   "metadata": {},
   "outputs": [
    {
     "name": "stdout",
     "output_type": "stream",
     "text": [
      "adventure\n",
      "adventure\n"
     ]
    }
   ],
   "source": [
    "print(Genre.ADVENTURE)\n",
    "print(Genre(1))"
   ]
  },
  {
   "cell_type": "code",
   "execution_count": 17,
   "metadata": {},
   "outputs": [
    {
     "name": "stdout",
     "output_type": "stream",
     "text": [
      "unspecified\n",
      "adventure\n",
      "classics\n",
      "detective\n",
      "fantasy\n",
      "historic\n",
      "horror\n",
      "romance\n",
      "scifi\n"
     ]
    }
   ],
   "source": [
    "# Iterate through all defined genres\n",
    "for genre in Genre:\n",
    "    print(genre)        \n"
   ]
  },
  {
   "cell_type": "markdown",
   "metadata": {},
   "source": [
    "### `Attributes`"
   ]
  },
  {
   "cell_type": "code",
   "execution_count": 5,
   "metadata": {},
   "outputs": [],
   "source": [
    "class Attributes:\n",
    "    \n",
    "    @staticmethod\n",
    "    def _equal_ignore_case(target_str, other_str):    #D\n",
    "        if len(target_str) == 0: \n",
    "            return True\n",
    "        else:\n",
    "            return target_str.casefold() == other_str.casefold()\n",
    "        \n",
    "    def __init__(self, title, last, first, year, genre):\n",
    "        self._title = title\n",
    "        self._last  = last\n",
    "        self._first = first\n",
    "        self._year  = year     #C\n",
    "        self._genre = genre    #C\n",
    "\n",
    "    @property\n",
    "    def title(self): return self._title\n",
    "        \n",
    "    @property\n",
    "    def last(self): return self._last\n",
    "    \n",
    "    @property\n",
    "    def first(self): return self._first\n",
    "\n",
    "    @property\n",
    "    def year(self):  return self._year\n",
    "    \n",
    "    @property\n",
    "    def genre(self): return self._genre\n",
    "    \n",
    "    def is_match(self, target_attrs):    #B\n",
    "        return (     \n",
    "                Attributes._equal_ignore_case(target_attrs.title, \n",
    "                                              self._title)\n",
    "            and Attributes._equal_ignore_case(target_attrs.last,  \n",
    "                                              self._last)\n",
    "            and Attributes._equal_ignore_case(target_attrs.first, \n",
    "                                              self._first)\n",
    "            and (    (target_attrs.year  == 0)\n",
    "                  or (target_attrs.year  == self._year))\n",
    "            and (    (target_attrs.genre == Genre.UNSPECIFIED)\n",
    "                  or (target_attrs.genre == self._genre))\n",
    "        )\n",
    "    def __str__(self):\n",
    "        return (f\"{{TITLE: '{self._title}', LAST: '{self._last}', \"\n",
    "                f\"FIRST: '{self._first}', YEAR: {self._year}, \"    #E\n",
    "                f\"GENRE: {self._genre}}}\")    #E"
   ]
  },
  {
   "cell_type": "markdown",
   "metadata": {},
   "source": [
    "### `Book` & `Catalogue`"
   ]
  },
  {
   "cell_type": "code",
   "execution_count": 7,
   "metadata": {},
   "outputs": [],
   "source": [
    "class Book:\n",
    "    def __init__(self, attributes):\n",
    "        self._attributes = attributes\n",
    "\n",
    "    @property\n",
    "    def attributes(self): return self._attributes"
   ]
  },
  {
   "cell_type": "code",
   "execution_count": 6,
   "metadata": {},
   "outputs": [],
   "source": [
    "class Catalogue:\n",
    "    def __init__(self):\n",
    "        self._booklist = []\n",
    "    \n",
    "    def add(self, attrs):\n",
    "        self._booklist.append(Book(attrs))     #A\n",
    "    \n",
    "    def find(self, target_attrs):\n",
    "        return [book for book in self._booklist\n",
    "                    if book.attributes.is_match(target_attrs)    #B\n",
    "        ]"
   ]
  },
  {
   "cell_type": "markdown",
   "metadata": {},
   "source": [
    "### Usage"
   ]
  },
  {
   "cell_type": "code",
   "execution_count": 24,
   "metadata": {},
   "outputs": [
    {
     "name": "stdout",
     "output_type": "stream",
     "text": [
      "\n",
      "Find {TITLE: 'Life of Pi', LAST: 'Martel', FIRST: 'Yann', YEAR: 2003, GENRE: adventure}\n",
      "No matches.\n"
     ]
    }
   ],
   "source": [
    "catalogue = Catalogue()\n",
    "\n",
    "catalogue.add(Attributes(\"The Call of the Wild\",\n",
    "                         \"London\", \"Jack\",\n",
    "                         1903, Genre.ADVENTURE))\n",
    " \n",
    "catalogue.add(Attributes(\"To Kill a Mockingbird\", \n",
    "                         \"Lee\", \"Harper\",\n",
    "                         1960, Genre.CLASSICS))\n",
    "\n",
    "target_attrs = Attributes(\"Life of Pi\", \"Martel\", \"Yann\", \n",
    "                          2003, Genre.ADVENTURE)\n",
    "\n",
    "search(catalogue, target_attrs)"
   ]
  }
 ],
 "metadata": {
  "kernelspec": {
   "display_name": "Python 3",
   "language": "python",
   "name": "python3"
  },
  "language_info": {
   "codemirror_mode": {
    "name": "ipython",
    "version": 3
   },
   "file_extension": ".py",
   "mimetype": "text/x-python",
   "name": "python",
   "nbconvert_exporter": "python",
   "pygments_lexer": "ipython3",
   "version": "3.10.10"
  }
 },
 "nbformat": 4,
 "nbformat_minor": 2
}
