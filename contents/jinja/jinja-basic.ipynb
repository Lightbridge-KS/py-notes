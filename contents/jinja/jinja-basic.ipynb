{
 "cells": [
  {
   "cell_type": "markdown",
   "metadata": {},
   "source": [
    "# Jinja: Basic"
   ]
  },
  {
   "cell_type": "code",
   "execution_count": 1,
   "metadata": {},
   "outputs": [],
   "source": [
    "import jinja2"
   ]
  },
  {
   "cell_type": "markdown",
   "metadata": {},
   "source": [
    "## Template From String"
   ]
  },
  {
   "cell_type": "code",
   "execution_count": 2,
   "metadata": {},
   "outputs": [
    {
     "data": {
      "text/plain": [
       "'Hello, World!'"
      ]
     },
     "execution_count": 2,
     "metadata": {},
     "output_type": "execute_result"
    }
   ],
   "source": [
    "environment = jinja2.Environment()\n",
    "template = environment.from_string(\"Hello, {{ name }}!\")\n",
    "template.render(name=\"World\")"
   ]
  },
  {
   "cell_type": "code",
   "execution_count": 4,
   "metadata": {},
   "outputs": [],
   "source": [
    "from jinja2 import Environment, FileSystemLoader\n",
    "from datetime import datetime\n",
    "\n",
    "# Set up the Jinja2 environment\n",
    "# FileSystemLoader looks for templates in the specified directory\n",
    "env = Environment(loader=FileSystemLoader(\"templates/\"))\n",
    "# Define a date filter\n",
    "def date_filter(value, format=\"%Y-%m-%d\"):\n",
    "    \"\"\"Format a date using strftime.\"\"\"\n",
    "    if isinstance(value, datetime):\n",
    "        return value.strftime(format)\n",
    "    return value\n",
    "\n",
    "# Register the filter with your environment\n",
    "env.filters['date'] = date_filter\n",
    "\n",
    "# Load the template\n",
    "template = env.get_template('example.html.j2')\n",
    "\n",
    "# Define data for the template\n",
    "data = {\n",
    "    'title': 'Learning Jinja2',\n",
    "    'heading': 'Welcome to Jinja2 Templates',\n",
    "    'users': [\n",
    "        {'name': 'Dr. Kittipos', 'role': 'Radiologist'},\n",
    "        {'name': 'John', 'role': 'Developer'},\n",
    "        {'name': 'Lisa', 'role': 'Data Scientist'}\n",
    "    ],\n",
    "    'is_admin': True\n",
    "}\n",
    "\n",
    "# Render the template with the data\n",
    "result = template.render(**data)\n"
   ]
  },
  {
   "cell_type": "code",
   "execution_count": null,
   "metadata": {},
   "outputs": [],
   "source": [
    "# Write the result to a file\n",
    "with open('out/output-ex.html', 'w') as f:\n",
    "    f.write(result)"
   ]
  },
  {
   "cell_type": "markdown",
   "metadata": {},
   "source": [
    "## Template from file"
   ]
  },
  {
   "cell_type": "markdown",
   "metadata": {},
   "source": [
    "### Ex1: Message MD "
   ]
  },
  {
   "cell_type": "code",
   "execution_count": 9,
   "metadata": {},
   "outputs": [],
   "source": [
    "from jinja2 import Environment, FileSystemLoader\n",
    "\n",
    "max_score = 100\n",
    "test_name = \"Python Challenge\"\n",
    "students = [\n",
    "    {\"name\": \"Sandrine\",  \"score\": 100},\n",
    "    {\"name\": \"Gergeley\", \"score\": 87},\n",
    "    {\"name\": \"Frieda\", \"score\": 92},\n",
    "    {\"name\": \"Fritz\", \"score\": 40},\n",
    "    {\"name\": \"Sirius\", \"score\": 75},\n",
    "]\n",
    "\n",
    "environment = Environment(loader=FileSystemLoader(\"templates/\"))\n",
    "template = environment.get_template(\"message-temp.md.j2\")"
   ]
  },
  {
   "cell_type": "code",
   "execution_count": 10,
   "metadata": {},
   "outputs": [
    {
     "name": "stdout",
     "output_type": "stream",
     "text": [
      "... wrote out/message_sandrine.md\n",
      "... wrote out/message_gergeley.md\n",
      "... wrote out/message_frieda.md\n",
      "... wrote out/message_fritz.md\n",
      "... wrote out/message_sirius.md\n"
     ]
    }
   ],
   "source": [
    "for student in students:\n",
    "    filename = f\"out/message_{student['name'].lower()}.md\"\n",
    "    content = template.render(\n",
    "        student,\n",
    "        max_score=max_score,\n",
    "        test_name=test_name\n",
    "    )\n",
    "    with open(filename, mode=\"w\", encoding=\"utf-8\") as f:\n",
    "        f.write(content)\n",
    "        print(f\"... wrote {filename}\")"
   ]
  },
  {
   "cell_type": "markdown",
   "metadata": {},
   "source": [
    "### Ex2: Result HTML"
   ]
  },
  {
   "cell_type": "code",
   "execution_count": 12,
   "metadata": {},
   "outputs": [
    {
     "name": "stdout",
     "output_type": "stream",
     "text": [
      "... wrote out/students_results.html\n"
     ]
    }
   ],
   "source": [
    "results_filename = \"out/students_results.html\"\n",
    "results_template = environment.get_template(\"results.html.j2\")\n",
    "context = {\n",
    "    \"students\": students,\n",
    "    \"test_name\": test_name,\n",
    "    \"max_score\": max_score,\n",
    "}\n",
    "with open(results_filename, mode=\"w\", encoding=\"utf-8\") as results:\n",
    "    results.write(results_template.render(context))\n",
    "    print(f\"... wrote {results_filename}\")"
   ]
  },
  {
   "cell_type": "markdown",
   "metadata": {},
   "source": [
    "### Ex3: Results MD"
   ]
  },
  {
   "cell_type": "code",
   "execution_count": 15,
   "metadata": {},
   "outputs": [
    {
     "name": "stdout",
     "output_type": "stream",
     "text": [
      "... wrote out/students_results.md\n"
     ]
    }
   ],
   "source": [
    "results_filename = \"out/students_results.md\"\n",
    "results_template = environment.get_template(\"results.md.j2\")\n",
    "context = {\n",
    "    \"students\": students,\n",
    "    \"test_name\": test_name,\n",
    "    \"max_score\": max_score,\n",
    "}\n",
    "with open(results_filename, mode=\"w\", encoding=\"utf-8\") as results:\n",
    "    results.write(results_template.render(context))\n",
    "    print(f\"... wrote {results_filename}\")"
   ]
  }
 ],
 "metadata": {
  "kernelspec": {
   "display_name": "base",
   "language": "python",
   "name": "python3"
  },
  "language_info": {
   "codemirror_mode": {
    "name": "ipython",
    "version": 3
   },
   "file_extension": ".py",
   "mimetype": "text/x-python",
   "name": "python",
   "nbconvert_exporter": "python",
   "pygments_lexer": "ipython3",
   "version": "3.12.8"
  }
 },
 "nbformat": 4,
 "nbformat_minor": 2
}
