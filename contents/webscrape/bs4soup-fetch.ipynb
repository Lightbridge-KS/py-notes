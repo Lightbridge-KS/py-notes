{
 "cells": [
  {
   "cell_type": "markdown",
   "id": "786e4958",
   "metadata": {},
   "source": [
    "# Beautiful Soup (WebPage)"
   ]
  },
  {
   "cell_type": "code",
   "execution_count": 1,
   "id": "8d06ad2b",
   "metadata": {},
   "outputs": [],
   "source": [
    "import requests\n",
    "from bs4 import BeautifulSoup"
   ]
  },
  {
   "cell_type": "code",
   "execution_count": 20,
   "id": "bfb3cece",
   "metadata": {},
   "outputs": [],
   "source": [
    "def fetch_urlsoup(url, timeout=10):\n",
    "    \"\"\"Download HTML content from a URL and return a BeautifulSoup object.\"\"\"\n",
    "    headers = {\n",
    "        'User-Agent': 'Mozilla/5.0 (Macintosh; Intel Mac OS X 10_15_7) AppleWebKit/537.36 (KHTML, like Gecko) Chrome/91.0.4472.114 Safari/537.36',\n",
    "        'Accept': 'text/html,application/xhtml+xml,application/xml;q=0.9,image/webp,*/*;q=0.8',\n",
    "        'Accept-Language': 'en-US,en;q=0.5'\n",
    "    }\n",
    "    try:\n",
    "        # Try to download the webpage\n",
    "        response = requests.get(url, timeout=timeout, headers=headers)\n",
    "        response.raise_for_status()\n",
    "        \n",
    "        # Return BeautifulSoup object if successful\n",
    "        return BeautifulSoup(response.text, 'html.parser')\n",
    "    \n",
    "    except requests.exceptions.HTTPError as e:\n",
    "        print(f\"HTTP Error: {e}\")\n",
    "    except requests.exceptions.ConnectionError as e:\n",
    "        print(f\"Connection Error: {e}\")\n",
    "    except requests.exceptions.Timeout as e:\n",
    "        print(f\"Timeout Error: {e}\")\n",
    "    except requests.exceptions.RequestException as e:\n",
    "        print(f\"Request Exception: {e}\")\n",
    "    \n",
    "    # Return None if any exception occurred\n",
    "    return None"
   ]
  },
  {
   "cell_type": "code",
   "execution_count": 21,
   "id": "9deb457f",
   "metadata": {},
   "outputs": [],
   "source": [
    "soup_ex = fetch_urlsoup(\"https://example.com\")"
   ]
  },
  {
   "cell_type": "code",
   "execution_count": 22,
   "id": "fdcd60ca",
   "metadata": {},
   "outputs": [
    {
     "data": {
      "text/plain": [
       "<!DOCTYPE html>\n",
       "\n",
       "<html>\n",
       "<head>\n",
       "<title>Example Domain</title>\n",
       "<meta charset=\"utf-8\"/>\n",
       "<meta content=\"text/html; charset=utf-8\" http-equiv=\"Content-type\"/>\n",
       "<meta content=\"width=device-width, initial-scale=1\" name=\"viewport\"/>\n",
       "<style type=\"text/css\">\n",
       "    body {\n",
       "        background-color: #f0f0f2;\n",
       "        margin: 0;\n",
       "        padding: 0;\n",
       "        font-family: -apple-system, system-ui, BlinkMacSystemFont, \"Segoe UI\", \"Open Sans\", \"Helvetica Neue\", Helvetica, Arial, sans-serif;\n",
       "        \n",
       "    }\n",
       "    div {\n",
       "        width: 600px;\n",
       "        margin: 5em auto;\n",
       "        padding: 2em;\n",
       "        background-color: #fdfdff;\n",
       "        border-radius: 0.5em;\n",
       "        box-shadow: 2px 3px 7px 2px rgba(0,0,0,0.02);\n",
       "    }\n",
       "    a:link, a:visited {\n",
       "        color: #38488f;\n",
       "        text-decoration: none;\n",
       "    }\n",
       "    @media (max-width: 700px) {\n",
       "        div {\n",
       "            margin: 0 auto;\n",
       "            width: auto;\n",
       "        }\n",
       "    }\n",
       "    </style>\n",
       "</head>\n",
       "<body>\n",
       "<div>\n",
       "<h1>Example Domain</h1>\n",
       "<p>This domain is for use in illustrative examples in documents. You may use this\n",
       "    domain in literature without prior coordination or asking for permission.</p>\n",
       "<p><a href=\"https://www.iana.org/domains/example\">More information...</a></p>\n",
       "</div>\n",
       "</body>\n",
       "</html>"
      ]
     },
     "execution_count": 22,
     "metadata": {},
     "output_type": "execute_result"
    }
   ],
   "source": [
    "soup_ex"
   ]
  },
  {
   "cell_type": "code",
   "execution_count": 10,
   "id": "6b4ac2d2",
   "metadata": {},
   "outputs": [
    {
     "name": "stdout",
     "output_type": "stream",
     "text": [
      "Example Domain\n"
     ]
    }
   ],
   "source": [
    "print(soup_ex.title.text)  # Print the page title"
   ]
  },
  {
   "cell_type": "code",
   "execution_count": 13,
   "id": "3ee7b4f6",
   "metadata": {},
   "outputs": [
    {
     "name": "stdout",
     "output_type": "stream",
     "text": [
      "https://www.iana.org/domains/example\n"
     ]
    }
   ],
   "source": [
    "# Extract all URLs\n",
    "for link in soup_ex.find_all('a'):\n",
    "    print(link.get('href'))"
   ]
  },
  {
   "cell_type": "code",
   "execution_count": 14,
   "id": "bb2b92d9",
   "metadata": {},
   "outputs": [
    {
     "data": {
      "text/plain": [
       "'\\n\\n\\nExample Domain\\n\\n\\n\\n\\n\\n\\n\\nExample Domain\\nThis domain is for use in illustrative examples in documents. You may use this\\n    domain in literature without prior coordination or asking for permission.\\nMore information...\\n\\n\\n\\n'"
      ]
     },
     "execution_count": 14,
     "metadata": {},
     "output_type": "execute_result"
    }
   ],
   "source": [
    "soup_ex.get_text()"
   ]
  },
  {
   "cell_type": "markdown",
   "id": "5ea3092b",
   "metadata": {},
   "source": [
    "## rPoster Scrape"
   ]
  },
  {
   "cell_type": "code",
   "execution_count": 36,
   "id": "a7ef35c2",
   "metadata": {},
   "outputs": [],
   "source": [
    "import pandas as pd"
   ]
  },
  {
   "cell_type": "code",
   "execution_count": null,
   "id": "678acfe4",
   "metadata": {},
   "outputs": [],
   "source": [
    "soup_rposter = fetch_urlsoup(\"https://radiopaedia.org/courses/rposter\")"
   ]
  },
  {
   "cell_type": "code",
   "execution_count": 96,
   "id": "63682b2c",
   "metadata": {},
   "outputs": [
    {
     "data": {
      "application/vnd.microsoft.datawrangler.viewer.v0+json": {
       "columns": [
        {
         "name": "index",
         "rawType": "int64",
         "type": "integer"
        },
        {
         "name": "href",
         "rawType": "object",
         "type": "string"
        },
        {
         "name": "string",
         "rawType": "object",
         "type": "unknown"
        }
       ],
       "conversionMethod": "pd.DataFrame",
       "ref": "602e0b7e-ac79-4054-b1fa-72005030a86a",
       "rows": [
        [
         "0",
         "#",
         null
        ],
        [
         "1",
         "/edits?lang=us",
         "Recent Edits"
        ],
        [
         "2",
         "/sessions/new?lang=us",
         "Log In"
        ],
        [
         "3",
         "/articles?lang=us",
         "Articles"
        ],
        [
         "4",
         "/users/sign_up?lang=us",
         "Sign Up"
        ]
       ],
       "shape": {
        "columns": 2,
        "rows": 5
       }
      },
      "text/html": [
       "<div>\n",
       "<style scoped>\n",
       "    .dataframe tbody tr th:only-of-type {\n",
       "        vertical-align: middle;\n",
       "    }\n",
       "\n",
       "    .dataframe tbody tr th {\n",
       "        vertical-align: top;\n",
       "    }\n",
       "\n",
       "    .dataframe thead th {\n",
       "        text-align: right;\n",
       "    }\n",
       "</style>\n",
       "<table border=\"1\" class=\"dataframe\">\n",
       "  <thead>\n",
       "    <tr style=\"text-align: right;\">\n",
       "      <th></th>\n",
       "      <th>href</th>\n",
       "      <th>string</th>\n",
       "    </tr>\n",
       "  </thead>\n",
       "  <tbody>\n",
       "    <tr>\n",
       "      <th>0</th>\n",
       "      <td>#</td>\n",
       "      <td>None</td>\n",
       "    </tr>\n",
       "    <tr>\n",
       "      <th>1</th>\n",
       "      <td>/edits?lang=us</td>\n",
       "      <td>Recent Edits</td>\n",
       "    </tr>\n",
       "    <tr>\n",
       "      <th>2</th>\n",
       "      <td>/sessions/new?lang=us</td>\n",
       "      <td>Log In</td>\n",
       "    </tr>\n",
       "    <tr>\n",
       "      <th>3</th>\n",
       "      <td>/articles?lang=us</td>\n",
       "      <td>Articles</td>\n",
       "    </tr>\n",
       "    <tr>\n",
       "      <th>4</th>\n",
       "      <td>/users/sign_up?lang=us</td>\n",
       "      <td>Sign Up</td>\n",
       "    </tr>\n",
       "  </tbody>\n",
       "</table>\n",
       "</div>"
      ],
      "text/plain": [
       "                     href        string\n",
       "0                       #          None\n",
       "1          /edits?lang=us  Recent Edits\n",
       "2   /sessions/new?lang=us        Log In\n",
       "3       /articles?lang=us      Articles\n",
       "4  /users/sign_up?lang=us       Sign Up"
      ]
     },
     "execution_count": 96,
     "metadata": {},
     "output_type": "execute_result"
    }
   ],
   "source": [
    "link_df = pd.DataFrame({\n",
    "    \"href\": [link.get('href') for link in soup_rposter.find_all('a')],\n",
    "    \"string\": [link.string for link in soup_rposter.find_all('a')]\n",
    "    })\n",
    "link_df.head()"
   ]
  },
  {
   "cell_type": "code",
   "execution_count": 97,
   "id": "5bbb5815",
   "metadata": {},
   "outputs": [
    {
     "data": {
      "application/vnd.microsoft.datawrangler.viewer.v0+json": {
       "columns": [
        {
         "name": "index",
         "rawType": "int64",
         "type": "integer"
        },
        {
         "name": "href",
         "rawType": "object",
         "type": "string"
        },
        {
         "name": "string",
         "rawType": "object",
         "type": "string"
        },
        {
         "name": "href_full",
         "rawType": "object",
         "type": "string"
        }
       ],
       "conversionMethod": "pd.DataFrame",
       "ref": "2eb3367d-e4f3-476b-880b-493af2011235",
       "rows": [
        [
         "77",
         "/courses/rposter/pages/2409",
         "10 Must-Know In Abdominal Imaging",
         "https://radiopaedia.org/courses/rposter/pages/2409"
        ],
        [
         "78",
         "/courses/rposter/pages/2480",
         "A Beginner's Guide To: Perianal Fistulas",
         "https://radiopaedia.org/courses/rposter/pages/2480"
        ],
        [
         "79",
         "/courses/rposter/pages/2489",
         "An Overview Of Polyposis Syndromes",
         "https://radiopaedia.org/courses/rposter/pages/2489"
        ],
        [
         "80",
         "/courses/rposter/pages/2416",
         "Appendicitis: A Declassified Guide To Imaging",
         "https://radiopaedia.org/courses/rposter/pages/2416"
        ],
        [
         "81",
         "/courses/rposter/pages/2438",
         "Bowel Ultrasound",
         "https://radiopaedia.org/courses/rposter/pages/2438"
        ]
       ],
       "shape": {
        "columns": 3,
        "rows": 5
       }
      },
      "text/html": [
       "<div>\n",
       "<style scoped>\n",
       "    .dataframe tbody tr th:only-of-type {\n",
       "        vertical-align: middle;\n",
       "    }\n",
       "\n",
       "    .dataframe tbody tr th {\n",
       "        vertical-align: top;\n",
       "    }\n",
       "\n",
       "    .dataframe thead th {\n",
       "        text-align: right;\n",
       "    }\n",
       "</style>\n",
       "<table border=\"1\" class=\"dataframe\">\n",
       "  <thead>\n",
       "    <tr style=\"text-align: right;\">\n",
       "      <th></th>\n",
       "      <th>href</th>\n",
       "      <th>string</th>\n",
       "      <th>href_full</th>\n",
       "    </tr>\n",
       "  </thead>\n",
       "  <tbody>\n",
       "    <tr>\n",
       "      <th>77</th>\n",
       "      <td>/courses/rposter/pages/2409</td>\n",
       "      <td>10 Must-Know In Abdominal Imaging</td>\n",
       "      <td>https://radiopaedia.org/courses/rposter/pages/...</td>\n",
       "    </tr>\n",
       "    <tr>\n",
       "      <th>78</th>\n",
       "      <td>/courses/rposter/pages/2480</td>\n",
       "      <td>A Beginner's Guide To: Perianal Fistulas</td>\n",
       "      <td>https://radiopaedia.org/courses/rposter/pages/...</td>\n",
       "    </tr>\n",
       "    <tr>\n",
       "      <th>79</th>\n",
       "      <td>/courses/rposter/pages/2489</td>\n",
       "      <td>An Overview Of Polyposis Syndromes</td>\n",
       "      <td>https://radiopaedia.org/courses/rposter/pages/...</td>\n",
       "    </tr>\n",
       "    <tr>\n",
       "      <th>80</th>\n",
       "      <td>/courses/rposter/pages/2416</td>\n",
       "      <td>Appendicitis: A Declassified Guide To Imaging</td>\n",
       "      <td>https://radiopaedia.org/courses/rposter/pages/...</td>\n",
       "    </tr>\n",
       "    <tr>\n",
       "      <th>81</th>\n",
       "      <td>/courses/rposter/pages/2438</td>\n",
       "      <td>Bowel Ultrasound</td>\n",
       "      <td>https://radiopaedia.org/courses/rposter/pages/...</td>\n",
       "    </tr>\n",
       "  </tbody>\n",
       "</table>\n",
       "</div>"
      ],
      "text/plain": [
       "                           href  \\\n",
       "77  /courses/rposter/pages/2409   \n",
       "78  /courses/rposter/pages/2480   \n",
       "79  /courses/rposter/pages/2489   \n",
       "80  /courses/rposter/pages/2416   \n",
       "81  /courses/rposter/pages/2438   \n",
       "\n",
       "                                           string  \\\n",
       "77              10 Must-Know In Abdominal Imaging   \n",
       "78       A Beginner's Guide To: Perianal Fistulas   \n",
       "79             An Overview Of Polyposis Syndromes   \n",
       "80  Appendicitis: A Declassified Guide To Imaging   \n",
       "81                               Bowel Ultrasound   \n",
       "\n",
       "                                            href_full  \n",
       "77  https://radiopaedia.org/courses/rposter/pages/...  \n",
       "78  https://radiopaedia.org/courses/rposter/pages/...  \n",
       "79  https://radiopaedia.org/courses/rposter/pages/...  \n",
       "80  https://radiopaedia.org/courses/rposter/pages/...  \n",
       "81  https://radiopaedia.org/courses/rposter/pages/...  "
      ]
     },
     "execution_count": 97,
     "metadata": {},
     "output_type": "execute_result"
    }
   ],
   "source": [
    "link_df_mod = (\n",
    "    link_df\n",
    "    .pipe(lambda df: df[df[\"href\"].str.contains(\"/courses/rposter/pages\", regex = True, na=False)])\n",
    "    .pipe(lambda df: df.assign(href_full = \"https://radiopaedia.org\" + df[\"href\"]))\n",
    ")\n",
    "link_df_mod.head()"
   ]
  },
  {
   "cell_type": "markdown",
   "id": "89d0b8d4",
   "metadata": {},
   "source": [
    "#### Get Download URL"
   ]
  },
  {
   "cell_type": "code",
   "execution_count": 154,
   "id": "9f817271",
   "metadata": {},
   "outputs": [],
   "source": [
    "import time\n",
    "soup_pdf_url = {}\n",
    "\n",
    "for index, row in link_df_mod[0:2].iterrows():\n",
    "    url = row[\"href_full\"]\n",
    "    title = row[\"string\"]\n",
    "    try:\n",
    "        soup_dl_page_url = fetch_urlsoup(url)\n",
    "        soup_pdf_url[title] = [link.get('href') \n",
    "                                for link in soup_dl_page_url.find_all('a') \n",
    "                                if link.string == \"DOWNLOAD PDF\"][0]\n",
    "        time.sleep(1)\n",
    "    except Exception as e:\n",
    "        print(f\"Error: {e}\")"
   ]
  },
  {
   "cell_type": "code",
   "execution_count": 155,
   "id": "f3e9ba72",
   "metadata": {},
   "outputs": [
    {
     "data": {
      "text/plain": [
       "{'10 Must-Know In Abdominal Imaging': 'https://prod-images-static.radiopaedia.org/page_images/5054/R24-004_10_must-know_in_abdominal_imaging.pdf',\n",
       " \"A Beginner's Guide To: Perianal Fistulas\": 'https://prod-images-static.radiopaedia.org/page_images/5100/R24-259_A_Beginner_s_Guide_to_Perianal_Fistulas.pdf'}"
      ]
     },
     "execution_count": 155,
     "metadata": {},
     "output_type": "execute_result"
    }
   ],
   "source": [
    "soup_pdf_url"
   ]
  },
  {
   "cell_type": "markdown",
   "id": "88a5bdf6",
   "metadata": {},
   "source": [
    "### Download PDF"
   ]
  },
  {
   "cell_type": "code",
   "execution_count": 167,
   "id": "8c938da6",
   "metadata": {},
   "outputs": [],
   "source": [
    "from pathlib import Path\n",
    "\n",
    "def download_pdf(url, output_path = None):\n",
    "    \"\"\"Download a PDF file from a URL and save it to the specified path.\"\"\"\n",
    "    # Send GET request\n",
    "    response = requests.get(url, stream=True)\n",
    "    response.raise_for_status()  # Raise an exception for bad responses\n",
    "    \n",
    "    if output_path is None:\n",
    "        output_path = Path(url).name\n",
    "    \n",
    "    # Write content to file\n",
    "    with open(output_path, 'wb') as file:\n",
    "        for chunk in response.iter_content(chunk_size=8192):\n",
    "            file.write(chunk)\n",
    "    \n",
    "    return output_path"
   ]
  },
  {
   "cell_type": "code",
   "execution_count": 168,
   "id": "a98b743e",
   "metadata": {},
   "outputs": [
    {
     "data": {
      "text/plain": [
       "'R24-004_10_must-know_in_abdominal_imaging.pdf'"
      ]
     },
     "execution_count": 168,
     "metadata": {},
     "output_type": "execute_result"
    }
   ],
   "source": [
    "download_pdf(soup_pdf_url[\"10 Must-Know In Abdominal Imaging\"])"
   ]
  }
 ],
 "metadata": {
  "kernelspec": {
   "display_name": "ds-env",
   "language": "python",
   "name": "python3"
  },
  "language_info": {
   "codemirror_mode": {
    "name": "ipython",
    "version": 3
   },
   "file_extension": ".py",
   "mimetype": "text/x-python",
   "name": "python",
   "nbconvert_exporter": "python",
   "pygments_lexer": "ipython3",
   "version": "3.12.9"
  }
 },
 "nbformat": 4,
 "nbformat_minor": 5
}
