{
 "cells": [
  {
   "cell_type": "markdown",
   "id": "0143b6a1",
   "metadata": {},
   "source": [
    "# BS4 Soup: Extract Table to DF"
   ]
  },
  {
   "cell_type": "code",
   "execution_count": 6,
   "id": "489066c9",
   "metadata": {},
   "outputs": [],
   "source": [
    "import requests\n",
    "from bs4 import BeautifulSoup"
   ]
  },
  {
   "cell_type": "markdown",
   "id": "dd7cf2bf",
   "metadata": {},
   "source": [
    "## Understanding the Process\n",
    "\n",
    "When we scrape a table from a website, we're essentially following these steps:\n",
    "\n",
    "1. **Parse the HTML**: Use BeautifulSoup to navigate the HTML structure\n",
    "2. **Find the table**: Locate the specific table element we want\n",
    "3. **Extract data**: Pull out the rows and cells from the table\n",
    "4. **Structure the data**: Organize it into a format pandas can understand\n",
    "5. **Create DataFrame**: Convert our structured data into a pandas DataFrame\n"
   ]
  },
  {
   "cell_type": "markdown",
   "id": "60b5e226",
   "metadata": {},
   "source": [
    "## Complete Example\n",
    "\n",
    "Let me show you a practical example using fake HTML content that represents a typical table you might find on a website:\n"
   ]
  },
  {
   "cell_type": "code",
   "execution_count": 2,
   "id": "09e53a51",
   "metadata": {},
   "outputs": [],
   "source": [
    "from bs4 import BeautifulSoup\n",
    "import pandas as pd\n",
    "\n",
    "# Create fake HTML content with a table\n",
    "html_content = \"\"\"\n",
    "<html>\n",
    "<body>\n",
    "    <div class=\"content\">\n",
    "        <h2>Employee Information</h2>\n",
    "        <table id=\"employee-table\" class=\"data-table\">\n",
    "            <thead>\n",
    "                <tr>\n",
    "                    <th>Name</th>\n",
    "                    <th>Department</th>\n",
    "                    <th>Salary</th>\n",
    "                    <th>Years of Experience</th>\n",
    "                </tr>\n",
    "            </thead>\n",
    "            <tbody>\n",
    "                <tr>\n",
    "                    <td>John Smith</td>\n",
    "                    <td>Engineering</td>\n",
    "                    <td>$75,000</td>\n",
    "                    <td>5</td>\n",
    "                </tr>\n",
    "                <tr>\n",
    "                    <td>Sarah Johnson</td>\n",
    "                    <td>Marketing</td>\n",
    "                    <td>$65,000</td>\n",
    "                    <td>3</td>\n",
    "                </tr>\n",
    "                <tr>\n",
    "                    <td>Mike Wilson</td>\n",
    "                    <td>Sales</td>\n",
    "                    <td>$70,000</td>\n",
    "                    <td>7</td>\n",
    "                </tr>\n",
    "                <tr>\n",
    "                    <td>Lisa Brown</td>\n",
    "                    <td>HR</td>\n",
    "                    <td>$60,000</td>\n",
    "                    <td>2</td>\n",
    "                </tr>\n",
    "            </tbody>\n",
    "        </table>\n",
    "    </div>\n",
    "</body>\n",
    "</html>\n",
    "\"\"\""
   ]
  },
  {
   "cell_type": "code",
   "execution_count": 4,
   "id": "fd6df184",
   "metadata": {},
   "outputs": [
    {
     "data": {
      "application/vnd.microsoft.datawrangler.viewer.v0+json": {
       "columns": [
        {
         "name": "index",
         "rawType": "int64",
         "type": "integer"
        },
        {
         "name": "Name",
         "rawType": "object",
         "type": "string"
        },
        {
         "name": "Department",
         "rawType": "object",
         "type": "string"
        },
        {
         "name": "Salary",
         "rawType": "object",
         "type": "string"
        },
        {
         "name": "Years of Experience",
         "rawType": "object",
         "type": "string"
        }
       ],
       "ref": "13e6dabc-bfa9-451d-9aee-36a710b5895a",
       "rows": [
        [
         "0",
         "John Smith",
         "Engineering",
         "$75,000",
         "5"
        ],
        [
         "1",
         "Sarah Johnson",
         "Marketing",
         "$65,000",
         "3"
        ],
        [
         "2",
         "Mike Wilson",
         "Sales",
         "$70,000",
         "7"
        ],
        [
         "3",
         "Lisa Brown",
         "HR",
         "$60,000",
         "2"
        ]
       ],
       "shape": {
        "columns": 4,
        "rows": 4
       }
      },
      "text/html": [
       "<div>\n",
       "<style scoped>\n",
       "    .dataframe tbody tr th:only-of-type {\n",
       "        vertical-align: middle;\n",
       "    }\n",
       "\n",
       "    .dataframe tbody tr th {\n",
       "        vertical-align: top;\n",
       "    }\n",
       "\n",
       "    .dataframe thead th {\n",
       "        text-align: right;\n",
       "    }\n",
       "</style>\n",
       "<table border=\"1\" class=\"dataframe\">\n",
       "  <thead>\n",
       "    <tr style=\"text-align: right;\">\n",
       "      <th></th>\n",
       "      <th>Name</th>\n",
       "      <th>Department</th>\n",
       "      <th>Salary</th>\n",
       "      <th>Years of Experience</th>\n",
       "    </tr>\n",
       "  </thead>\n",
       "  <tbody>\n",
       "    <tr>\n",
       "      <th>0</th>\n",
       "      <td>John Smith</td>\n",
       "      <td>Engineering</td>\n",
       "      <td>$75,000</td>\n",
       "      <td>5</td>\n",
       "    </tr>\n",
       "    <tr>\n",
       "      <th>1</th>\n",
       "      <td>Sarah Johnson</td>\n",
       "      <td>Marketing</td>\n",
       "      <td>$65,000</td>\n",
       "      <td>3</td>\n",
       "    </tr>\n",
       "    <tr>\n",
       "      <th>2</th>\n",
       "      <td>Mike Wilson</td>\n",
       "      <td>Sales</td>\n",
       "      <td>$70,000</td>\n",
       "      <td>7</td>\n",
       "    </tr>\n",
       "    <tr>\n",
       "      <th>3</th>\n",
       "      <td>Lisa Brown</td>\n",
       "      <td>HR</td>\n",
       "      <td>$60,000</td>\n",
       "      <td>2</td>\n",
       "    </tr>\n",
       "  </tbody>\n",
       "</table>\n",
       "</div>"
      ],
      "text/plain": [
       "            Name   Department   Salary Years of Experience\n",
       "0     John Smith  Engineering  $75,000                   5\n",
       "1  Sarah Johnson    Marketing  $65,000                   3\n",
       "2    Mike Wilson        Sales  $70,000                   7\n",
       "3     Lisa Brown           HR  $60,000                   2"
      ]
     },
     "execution_count": 4,
     "metadata": {},
     "output_type": "execute_result"
    }
   ],
   "source": [
    "def scrape_table_to_dataframe(html_content):\n",
    "    \"\"\"Convert HTML table to pandas DataFrame.\"\"\"\n",
    "    \n",
    "    # Step 1: Parse the HTML content\n",
    "    soup = BeautifulSoup(html_content, 'html.parser')\n",
    "    \n",
    "    # Step 2: Find the table (using ID in this case)\n",
    "    table = soup.find('table', {'id': 'employee-table'})\n",
    "    \n",
    "    # Step 3: Extract headers\n",
    "    headers = []\n",
    "    header_row = table.find('thead').find('tr')\n",
    "    for th in header_row.find_all('th'):\n",
    "        headers.append(th.text.strip())  # strip() removes whitespace\n",
    "    \n",
    "    # Step 4: Extract data rows\n",
    "    rows_data = []\n",
    "    tbody = table.find('tbody')\n",
    "    for row in tbody.find_all('tr'):\n",
    "        row_data = []\n",
    "        for td in row.find_all('td'):\n",
    "            row_data.append(td.text.strip())\n",
    "        rows_data.append(row_data)\n",
    "    \n",
    "    # Step 5: Create DataFrame\n",
    "    df = pd.DataFrame(rows_data, columns=headers)\n",
    "    \n",
    "    return df\n",
    "\n",
    "# Execute the function\n",
    "df = scrape_table_to_dataframe(html_content)\n",
    "df"
   ]
  },
  {
   "cell_type": "markdown",
   "id": "9e293658",
   "metadata": {},
   "source": [
    "## Scrape from Table"
   ]
  },
  {
   "cell_type": "code",
   "execution_count": 7,
   "id": "36a4fd76",
   "metadata": {},
   "outputs": [
    {
     "data": {
      "text/plain": [
       "<table class=\"data-table\" id=\"employee-table\">\n",
       "<thead>\n",
       "<tr>\n",
       "<th>Name</th>\n",
       "<th>Department</th>\n",
       "<th>Salary</th>\n",
       "<th>Years of Experience</th>\n",
       "</tr>\n",
       "</thead>\n",
       "<tbody>\n",
       "<tr>\n",
       "<td>John Smith</td>\n",
       "<td>Engineering</td>\n",
       "<td>$75,000</td>\n",
       "<td>5</td>\n",
       "</tr>\n",
       "<tr>\n",
       "<td>Sarah Johnson</td>\n",
       "<td>Marketing</td>\n",
       "<td>$65,000</td>\n",
       "<td>3</td>\n",
       "</tr>\n",
       "<tr>\n",
       "<td>Mike Wilson</td>\n",
       "<td>Sales</td>\n",
       "<td>$70,000</td>\n",
       "<td>7</td>\n",
       "</tr>\n",
       "<tr>\n",
       "<td>Lisa Brown</td>\n",
       "<td>HR</td>\n",
       "<td>$60,000</td>\n",
       "<td>2</td>\n",
       "</tr>\n",
       "</tbody>\n",
       "</table>"
      ]
     },
     "execution_count": 7,
     "metadata": {},
     "output_type": "execute_result"
    }
   ],
   "source": [
    "soup1 = BeautifulSoup(html_content, 'html.parser')\n",
    "soup1_table = soup1.find('table', {'id': 'employee-table'})\n",
    "soup1_table"
   ]
  },
  {
   "cell_type": "code",
   "execution_count": 8,
   "id": "bac5f401",
   "metadata": {},
   "outputs": [],
   "source": [
    "import bs4\n",
    "\n",
    "def bs4_table_to_df(bs4table: bs4.element.Tag):\n",
    "    \"\"\"Transform a single bs4 table to a dataframe\"\"\"\n",
    "    # Extract headers (Column Name)\n",
    "    headers = []\n",
    "    header_row = bs4table.find(\"thead\").find(\"tr\")\n",
    "    for th in header_row.find_all(\"th\"):\n",
    "        headers.append(th.text.strip())  # strip() removes whitespace\n",
    "\n",
    "    # Extract data rows\n",
    "    rows_data = []\n",
    "    tbody = bs4table.find(\"tbody\")\n",
    "    for row in tbody.find_all(\"tr\"):\n",
    "        row_data = []\n",
    "        for td in row.find_all(\"td\"):\n",
    "            row_data.append(td.text.strip())\n",
    "        rows_data.append(row_data)\n",
    "\n",
    "    # Create DataFrame\n",
    "    df = pd.DataFrame(rows_data, columns=headers)\n",
    "    return df\n"
   ]
  },
  {
   "cell_type": "code",
   "execution_count": 9,
   "id": "afece6f5",
   "metadata": {},
   "outputs": [
    {
     "data": {
      "application/vnd.microsoft.datawrangler.viewer.v0+json": {
       "columns": [
        {
         "name": "index",
         "rawType": "int64",
         "type": "integer"
        },
        {
         "name": "Name",
         "rawType": "object",
         "type": "string"
        },
        {
         "name": "Department",
         "rawType": "object",
         "type": "string"
        },
        {
         "name": "Salary",
         "rawType": "object",
         "type": "string"
        },
        {
         "name": "Years of Experience",
         "rawType": "object",
         "type": "string"
        }
       ],
       "ref": "9963bb28-7d09-4aad-8cd5-e34e37268592",
       "rows": [
        [
         "0",
         "John Smith",
         "Engineering",
         "$75,000",
         "5"
        ],
        [
         "1",
         "Sarah Johnson",
         "Marketing",
         "$65,000",
         "3"
        ],
        [
         "2",
         "Mike Wilson",
         "Sales",
         "$70,000",
         "7"
        ],
        [
         "3",
         "Lisa Brown",
         "HR",
         "$60,000",
         "2"
        ]
       ],
       "shape": {
        "columns": 4,
        "rows": 4
       }
      },
      "text/html": [
       "<div>\n",
       "<style scoped>\n",
       "    .dataframe tbody tr th:only-of-type {\n",
       "        vertical-align: middle;\n",
       "    }\n",
       "\n",
       "    .dataframe tbody tr th {\n",
       "        vertical-align: top;\n",
       "    }\n",
       "\n",
       "    .dataframe thead th {\n",
       "        text-align: right;\n",
       "    }\n",
       "</style>\n",
       "<table border=\"1\" class=\"dataframe\">\n",
       "  <thead>\n",
       "    <tr style=\"text-align: right;\">\n",
       "      <th></th>\n",
       "      <th>Name</th>\n",
       "      <th>Department</th>\n",
       "      <th>Salary</th>\n",
       "      <th>Years of Experience</th>\n",
       "    </tr>\n",
       "  </thead>\n",
       "  <tbody>\n",
       "    <tr>\n",
       "      <th>0</th>\n",
       "      <td>John Smith</td>\n",
       "      <td>Engineering</td>\n",
       "      <td>$75,000</td>\n",
       "      <td>5</td>\n",
       "    </tr>\n",
       "    <tr>\n",
       "      <th>1</th>\n",
       "      <td>Sarah Johnson</td>\n",
       "      <td>Marketing</td>\n",
       "      <td>$65,000</td>\n",
       "      <td>3</td>\n",
       "    </tr>\n",
       "    <tr>\n",
       "      <th>2</th>\n",
       "      <td>Mike Wilson</td>\n",
       "      <td>Sales</td>\n",
       "      <td>$70,000</td>\n",
       "      <td>7</td>\n",
       "    </tr>\n",
       "    <tr>\n",
       "      <th>3</th>\n",
       "      <td>Lisa Brown</td>\n",
       "      <td>HR</td>\n",
       "      <td>$60,000</td>\n",
       "      <td>2</td>\n",
       "    </tr>\n",
       "  </tbody>\n",
       "</table>\n",
       "</div>"
      ],
      "text/plain": [
       "            Name   Department   Salary Years of Experience\n",
       "0     John Smith  Engineering  $75,000                   5\n",
       "1  Sarah Johnson    Marketing  $65,000                   3\n",
       "2    Mike Wilson        Sales  $70,000                   7\n",
       "3     Lisa Brown           HR  $60,000                   2"
      ]
     },
     "execution_count": 9,
     "metadata": {},
     "output_type": "execute_result"
    }
   ],
   "source": [
    "bs4_table_to_df(soup1_table)"
   ]
  },
  {
   "cell_type": "markdown",
   "id": "935ed31e",
   "metadata": {},
   "source": [
    "## Understanding Each Step\n",
    "\n",
    "Let me break down what's happening in each part of our function:\n",
    "\n",
    "**Step 1 - HTML Parsing**: BeautifulSoup creates a navigable tree structure from the HTML string. Think of it like creating a map of the webpage's structure that we can explore programmatically.\n",
    "\n",
    "**Step 2 - Table Location**: We use `find()` to locate our specific table. I used the ID selector here, but you could also use class names, tag names, or other attributes.\n",
    "\n",
    "**Step 3 - Header Extraction**: We navigate to the table header (`<thead>`) and extract all the column names from the `<th>` elements. The `strip()` method is crucial here because HTML often contains extra whitespace.\n",
    "\n",
    "**Step 4 - Data Extraction**: We iterate through each row in the table body (`<tbody>`), then through each cell (`<td>`) in each row, building a list of lists structure.\n",
    "\n",
    "**Step 5 - DataFrame Creation**: Finally, we pass our structured data to pandas, specifying our headers as column names.\n"
   ]
  },
  {
   "cell_type": "markdown",
   "id": "dbf7fba2",
   "metadata": {},
   "source": [
    "## Alternative Table Finding Methods\n",
    "\n",
    "Sometimes tables don't have convenient IDs or classes. Here are other ways to find tables:"
   ]
  },
  {
   "cell_type": "code",
   "execution_count": 7,
   "id": "9a7d2dff",
   "metadata": {},
   "outputs": [],
   "source": [
    "soup = BeautifulSoup(html_content, 'html.parser')"
   ]
  },
  {
   "cell_type": "code",
   "execution_count": 8,
   "id": "0b591c81",
   "metadata": {},
   "outputs": [],
   "source": [
    "# Find by class name\n",
    "table = soup.find('table', {'class': 'data-table'})\n",
    "\n",
    "# Find by tag name (gets the first table)\n",
    "table = soup.find('table')\n",
    "\n",
    "# Find all tables and select by index\n",
    "tables = soup.find_all('table')\n",
    "table = tables[0]  # First table\n",
    "\n",
    "# Find by containing text\n",
    "table = soup.find('table', string=lambda text: 'Employee' in text if text else False)\n"
   ]
  },
  {
   "cell_type": "markdown",
   "id": "631e95d9",
   "metadata": {},
   "source": [
    "## Handling Edge Cases\n",
    "\n",
    "Real-world tables can be messy. Here's a more robust version that handles common issues:\n"
   ]
  },
  {
   "cell_type": "code",
   "execution_count": 9,
   "id": "2e6b8e8f",
   "metadata": {},
   "outputs": [],
   "source": [
    "\n",
    "def robust_table_scraper(html_content, table_selector=None):\n",
    "    \"\"\"More robust table scraping with error handling.\"\"\"\n",
    "    \n",
    "    soup = BeautifulSoup(html_content, 'html.parser')\n",
    "    \n",
    "    # Find table with flexible selector\n",
    "    if table_selector:\n",
    "        table = soup.select_one(table_selector)\n",
    "    else:\n",
    "        table = soup.find('table')\n",
    "    \n",
    "    if not table:\n",
    "        raise ValueError(\"No table found in the HTML content\")\n",
    "    \n",
    "    # Try to find headers - they might be in thead or first row\n",
    "    headers = []\n",
    "    thead = table.find('thead')\n",
    "    if thead:\n",
    "        header_row = thead.find('tr')\n",
    "        headers = [th.text.strip() for th in header_row.find_all(['th', 'td'])]\n",
    "    else:\n",
    "        # Headers might be in the first row of tbody\n",
    "        first_row = table.find('tr')\n",
    "        if first_row:\n",
    "            headers = [cell.text.strip() for cell in first_row.find_all(['th', 'td'])]\n",
    "    \n",
    "    # Extract data rows\n",
    "    rows_data = []\n",
    "    tbody = table.find('tbody')\n",
    "    rows = tbody.find_all('tr') if tbody else table.find_all('tr')[1:]  # Skip header row\n",
    "    \n",
    "    for row in rows:\n",
    "        cells = row.find_all(['td', 'th'])\n",
    "        row_data = [cell.text.strip() for cell in cells]\n",
    "        if row_data:  # Only add non-empty rows\n",
    "            rows_data.append(row_data)\n",
    "    \n",
    "    # Create DataFrame\n",
    "    if not headers:\n",
    "        headers = [f'Column_{i+1}' for i in range(len(rows_data[0]))]\n",
    "    \n",
    "    df = pd.DataFrame(rows_data, columns=headers)\n",
    "    return df\n"
   ]
  },
  {
   "cell_type": "markdown",
   "id": "87c76dc5",
   "metadata": {},
   "source": [
    "\n",
    "This enhanced version handles tables without proper `<thead>` sections and provides fallback column names when headers aren't found.\n",
    "\n",
    "Would you like me to explain any specific part in more detail, or shall we explore how to scrape tables from actual websites using the `requests` library?"
   ]
  }
 ],
 "metadata": {
  "kernelspec": {
   "display_name": "ds-env",
   "language": "python",
   "name": "python3"
  },
  "language_info": {
   "codemirror_mode": {
    "name": "ipython",
    "version": 3
   },
   "file_extension": ".py",
   "mimetype": "text/x-python",
   "name": "python",
   "nbconvert_exporter": "python",
   "pygments_lexer": "ipython3",
   "version": "3.12.9"
  }
 },
 "nbformat": 4,
 "nbformat_minor": 5
}
