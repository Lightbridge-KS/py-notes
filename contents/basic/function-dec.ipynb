{
 "cells": [
  {
   "cell_type": "markdown",
   "id": "9d75bc04",
   "metadata": {},
   "source": [
    "# Decorator"
   ]
  },
  {
   "cell_type": "markdown",
   "id": "98c5ccaa",
   "metadata": {},
   "source": [
    "- [Python Decorator Cheatsheet](https://www.pythoncheatsheet.org/cheatsheet/decorators)\n",
    "  \n",
    "## Concept"
   ]
  },
  {
   "cell_type": "code",
   "execution_count": 5,
   "id": "c21a7613",
   "metadata": {},
   "outputs": [],
   "source": [
    "from functools import wraps"
   ]
  },
  {
   "cell_type": "code",
   "execution_count": 6,
   "id": "84b68f3d",
   "metadata": {},
   "outputs": [],
   "source": [
    "def outer_func(msg):\n",
    "    def inner_func():\n",
    "        print(msg)\n",
    "    return inner_func"
   ]
  },
  {
   "cell_type": "markdown",
   "id": "044a6a52",
   "metadata": {},
   "source": [
    "Traditional function factory"
   ]
  },
  {
   "cell_type": "code",
   "execution_count": 7,
   "id": "29322909",
   "metadata": {},
   "outputs": [
    {
     "name": "stdout",
     "output_type": "stream",
     "text": [
      "hi\n",
      "bro\n"
     ]
    }
   ],
   "source": [
    "my_func_1 = outer_func(\"hi\")\n",
    "my_func_2 = outer_func(\"bro\")\n",
    "\n",
    "my_func_1()\n",
    "my_func_2()"
   ]
  },
  {
   "cell_type": "markdown",
   "id": "9651eb63",
   "metadata": {},
   "source": [
    "## Basic Usage"
   ]
  },
  {
   "cell_type": "code",
   "execution_count": 8,
   "id": "08807cdb",
   "metadata": {},
   "outputs": [],
   "source": [
    "def your_decorator(func):\n",
    "  def wrapper():\n",
    "    # Do stuff before func...\n",
    "    print(\"Before func!\")\n",
    "    func()\n",
    "    # Do stuff after func...\n",
    "    print(\"After func!\")\n",
    "  return wrapper"
   ]
  },
  {
   "cell_type": "markdown",
   "id": "7c51666f",
   "metadata": {},
   "source": [
    "### Decorator"
   ]
  },
  {
   "cell_type": "code",
   "execution_count": 9,
   "id": "0de6400a",
   "metadata": {},
   "outputs": [
    {
     "name": "stdout",
     "output_type": "stream",
     "text": [
      "Before func!\n",
      "Hello World!\n",
      "After func!\n"
     ]
    }
   ],
   "source": [
    "@your_decorator\n",
    "def foo():\n",
    "  print(\"Hello World!\")\n",
    "foo()"
   ]
  },
  {
   "cell_type": "code",
   "execution_count": 10,
   "id": "a1ea6bb3",
   "metadata": {},
   "outputs": [],
   "source": [
    "del foo # Clean up"
   ]
  },
  {
   "cell_type": "markdown",
   "id": "534daa51",
   "metadata": {},
   "source": [
    "### Manually"
   ]
  },
  {
   "cell_type": "code",
   "execution_count": 11,
   "id": "3b654d69",
   "metadata": {},
   "outputs": [],
   "source": [
    "def foo():\n",
    "  print(\"Hello World!\")"
   ]
  },
  {
   "cell_type": "code",
   "execution_count": 12,
   "id": "6068a3d4",
   "metadata": {},
   "outputs": [
    {
     "name": "stdout",
     "output_type": "stream",
     "text": [
      "Before func!\n",
      "Hello World!\n",
      "After func!\n"
     ]
    }
   ],
   "source": [
    "foo_dec = your_decorator(foo)\n",
    "foo_dec()"
   ]
  },
  {
   "cell_type": "markdown",
   "id": "2365f0d2",
   "metadata": {},
   "source": [
    "## Decorator with Parameters"
   ]
  },
  {
   "cell_type": "code",
   "execution_count": 13,
   "id": "4d2dc67b",
   "metadata": {},
   "outputs": [
    {
     "name": "stdout",
     "output_type": "stream",
     "text": [
      "Before func!\n",
      "My name is Jack\n",
      "After func!\n"
     ]
    }
   ],
   "source": [
    "def your_decorator(func):\n",
    "  def wrapper(*args,**kwargs):\n",
    "    # Do stuff before func...\n",
    "    print(\"Before func!\") \n",
    "    func(*args,**kwargs)\n",
    "    # Do stuff after func...\n",
    "    print(\"After func!\")\n",
    "  return wrapper\n",
    "\n",
    "@your_decorator\n",
    "def foo(bar):\n",
    "  print(\"My name is \" + bar)\n",
    "\n",
    "foo(\"Jack\")"
   ]
  },
  {
   "cell_type": "markdown",
   "id": "a82989ae",
   "metadata": {},
   "source": [
    "## Decorator Template"
   ]
  },
  {
   "cell_type": "code",
   "execution_count": 14,
   "id": "43d9a59a",
   "metadata": {},
   "outputs": [],
   "source": [
    "import functools\n",
    "\n",
    "def your_decorator(func):\n",
    "  @functools.wraps(func) # For preserving the metadata of func.\n",
    "  def wrapper(*args,**kwargs):\n",
    "    # Do stuff before func...\n",
    "    result = func(*args,**kwargs)\n",
    "    # Do stuff after func..\n",
    "    return result\n",
    "  return wrapper"
   ]
  }
 ],
 "metadata": {
  "kernelspec": {
   "display_name": "base",
   "language": "python",
   "name": "python3"
  },
  "language_info": {
   "codemirror_mode": {
    "name": "ipython",
    "version": 3
   },
   "file_extension": ".py",
   "mimetype": "text/x-python",
   "name": "python",
   "nbconvert_exporter": "python",
   "pygments_lexer": "ipython3",
   "version": "3.12.8"
  }
 },
 "nbformat": 4,
 "nbformat_minor": 5
}
