{
  "cells": [
    {
      "cell_type": "raw",
      "metadata": {},
      "source": [
        "---\n",
        "title: \"Path\"\n",
        "---"
      ],
      "id": "fdeacaa9"
    },
    {
      "cell_type": "code",
      "metadata": {},
      "source": [
        "from pathlib import Path\n",
        "import os"
      ],
      "id": "b11e6762",
      "execution_count": null,
      "outputs": []
    },
    {
      "cell_type": "markdown",
      "metadata": {},
      "source": [
        "## WD and Home\n",
        "\n",
        "### Current WD\n"
      ],
      "id": "d39e991b"
    },
    {
      "cell_type": "code",
      "metadata": {},
      "source": [
        "# Same\n",
        "os.getcwd()\n",
        "Path.cwd()"
      ],
      "id": "56043399",
      "execution_count": null,
      "outputs": []
    },
    {
      "cell_type": "markdown",
      "metadata": {},
      "source": [
        "On Windows, `.cwd()` returns a WindowsPath. On Linux and macOS, you get a PosixPath. \n",
        "\n",
        "### Current module \n"
      ],
      "id": "49884de5"
    },
    {
      "cell_type": "code",
      "metadata": {},
      "source": [
        "Path(__file__)"
      ],
      "id": "fc7c5ea0",
      "execution_count": null,
      "outputs": []
    },
    {
      "cell_type": "markdown",
      "metadata": {},
      "source": [
        "The `__file__` attribute contains the path to the file that Python is currently importing or executing\n",
        "\n",
        "Parent module:\n"
      ],
      "id": "27c1bddb"
    },
    {
      "cell_type": "code",
      "metadata": {},
      "source": [
        "Path(__file__).parent.parent"
      ],
      "id": "1136eaac",
      "execution_count": null,
      "outputs": []
    },
    {
      "cell_type": "markdown",
      "metadata": {},
      "source": [
        "### Home Dir\n"
      ],
      "id": "13c54664"
    },
    {
      "cell_type": "code",
      "metadata": {},
      "source": [
        "Path.home()"
      ],
      "id": "83424124",
      "execution_count": null,
      "outputs": []
    },
    {
      "cell_type": "markdown",
      "metadata": {},
      "source": [
        "## Path Operations\n",
        "\n",
        "### Passing as string\n"
      ],
      "id": "2f221a93"
    },
    {
      "cell_type": "code",
      "metadata": {},
      "source": [
        "Path(r\"C:\\Users\\philipp\\realpython\\file.txt\")"
      ],
      "id": "a0de3f01",
      "execution_count": null,
      "outputs": []
    },
    {
      "cell_type": "markdown",
      "metadata": {},
      "source": [
        "use **raw string literals** (`r'string'`) to represent Windows paths\n",
        "\n",
        "\n",
        "### Absolute path\n"
      ],
      "id": "74c31a96"
    },
    {
      "cell_type": "code",
      "metadata": {},
      "source": [
        "Path(\".\").absolute()"
      ],
      "id": "b12cca1e",
      "execution_count": null,
      "outputs": []
    },
    {
      "cell_type": "markdown",
      "metadata": {},
      "source": [
        "### Join Path\n",
        "\n",
        "Use slash `/`\n"
      ],
      "id": "fbc3d194"
    },
    {
      "cell_type": "code",
      "metadata": {},
      "source": [
        "Path.cwd() / Path(\"somefile.txt\")"
      ],
      "id": "bb93ad6e",
      "execution_count": null,
      "outputs": []
    },
    {
      "cell_type": "markdown",
      "metadata": {},
      "source": [
        "Use `joinpath()`\n"
      ],
      "id": "28ef9cb6"
    },
    {
      "cell_type": "code",
      "metadata": {},
      "source": [
        "Path.home().joinpath(\"python\", \"scripts\", \"test.py\")"
      ],
      "id": "309812e8",
      "execution_count": null,
      "outputs": []
    }
  ],
  "metadata": {
    "kernelspec": {
      "name": "python3",
      "language": "python",
      "display_name": "Python 3 (ipykernel)"
    }
  },
  "nbformat": 4,
  "nbformat_minor": 5
}