{
 "cells": [
  {
   "cell_type": "markdown",
   "id": "9909bffd",
   "metadata": {},
   "source": [
    "# Type hints cheat sheet\n",
    "\n",
    "**See also:** <https://mypy.readthedocs.io/en/latest/cheat_sheet_py3.html>"
   ]
  },
  {
   "cell_type": "markdown",
   "id": "e8731b42",
   "metadata": {},
   "source": [
    "## Summary Comparison Table\n",
    "\n",
    "| Feature | Python 3.5-3.8 | Python 3.9+ | Python 3.10+ | Python 3.11+ |\n",
    "|---------|----------------|--------------|---------------|---------------|\n",
    "| Basic types | `List[int]` | `list[int]` | `list[int]` | `list[int]` |\n",
    "| Union types | `Union[int, str]` | `Union[int, str]` | `int \\| str` | `int \\| str` |\n",
    "| Optional | `Optional[str]` | `Optional[str]` | `str \\| None` | `str \\| None` |\n",
    "| Type alias | `Vector = List[float]` | `Vector = list[float]` | `Vector: TypeAlias = list[float]` | Same as 3.10 |\n",
    "| Self type | Use TypeVar | Use TypeVar | Use TypeVar | `Self` |\n",
    "| NotRequired | Not available | Not available | Not available | `NotRequired[T]` |\n",
    "| TypeGuard | Not available | Not available | `TypeGuard` | `TypeGuard` |\n"
   ]
  },
  {
   "cell_type": "markdown",
   "id": "3581cf4f",
   "metadata": {},
   "source": [
    "## Basic Syntax"
   ]
  },
  {
   "cell_type": "code",
   "execution_count": 2,
   "id": "c77708d5",
   "metadata": {},
   "outputs": [],
   "source": [
    "# Variable annotations\n",
    "name: str = \"Alice\"\n",
    "age: int = 30\n",
    "height: float = 5.9\n",
    "is_student: bool = False\n",
    "\n",
    "# Function annotations\n",
    "def greet(name: str) -> str:\n",
    "    \"\"\"Say hello to someone.\"\"\"\n",
    "    return f\"Hello, {name}!\"\n",
    "\n",
    "# Function with multiple parameters\n",
    "def add(x: int, y: int) -> int:\n",
    "    \"\"\"Add two numbers.\"\"\"\n",
    "    return x + y"
   ]
  },
  {
   "cell_type": "markdown",
   "id": "7c0249b1",
   "metadata": {},
   "source": [
    "## Built-in types"
   ]
  },
  {
   "cell_type": "code",
   "execution_count": 3,
   "id": "5bdc7dc7",
   "metadata": {},
   "outputs": [],
   "source": [
    "# Primitive types\n",
    "x: int = 42\n",
    "y: float = 3.14\n",
    "z: str = \"hello\"\n",
    "flag: bool = True\n",
    "data: bytes = b\"binary data\"\n",
    "\n",
    "# None type\n",
    "result: None = None\n",
    "def print_message(msg: str) -> None:\n",
    "    \"\"\"Print a message.\"\"\"\n",
    "    print(msg)"
   ]
  },
  {
   "cell_type": "markdown",
   "id": "475dbbae",
   "metadata": {},
   "source": [
    "## Collection Types"
   ]
  },
  {
   "cell_type": "code",
   "execution_count": 4,
   "id": "2de80e56",
   "metadata": {},
   "outputs": [],
   "source": [
    "from typing import List, Dict, Tuple, Set, FrozenSet\n",
    "\n",
    "# Lists\n",
    "num: list[int] = [1, 2, 3]  # Python 3.9+\n",
    "num: List[int] = [1, 2, 3]  # Python 3.5+\n",
    "\n",
    "# Dictionaries\n",
    "scores: dict[str, int] = {\"Alice\": 95, \"Bob\": 87}  # Python 3.9+\n",
    "scores: Dict[str, int] = {\"Alice\": 95, \"Bob\": 87}  # Python 3.5+\n",
    "\n",
    "# Tuples (fixed size)\n",
    "point: tuple[float, float] = (3.0, 4.0)  # Python 3.9+\n",
    "point: Tuple[float, float] = (3.0, 4.0)  # Python 3.5+\n",
    "\n",
    "# Tuples (variable size)\n",
    "numbers: tuple[int, ...] = (1, 2, 3, 4, 5)  # Python 3.9+\n",
    "numbers: Tuple[int, ...] = (1, 2, 3, 4, 5)  # Python 3.5+\n",
    "\n",
    "# Sets\n",
    "unique_ids: set[int] = {1, 2, 3}  # Python 3.9+\n",
    "unique_ids: Set[int] = {1, 2, 3}  # Python 3.5+\n",
    "\n",
    "# Frozen sets\n",
    "frozen: frozenset[str] = frozenset([\"a\", \"b\", \"c\"])  # Python 3.9+\n",
    "frozen: FrozenSet[str] = frozenset([\"a\", \"b\", \"c\"])  # Python 3.5+"
   ]
  },
  {
   "cell_type": "markdown",
   "id": "76fe262a",
   "metadata": {},
   "source": [
    "## Union Types"
   ]
  },
  {
   "cell_type": "code",
   "execution_count": 7,
   "id": "0031d7a8",
   "metadata": {},
   "outputs": [],
   "source": [
    "from typing import Union\n",
    "from typing import Optional\n",
    "\n",
    "# Python 3.10+ pipe syntax (Preferred)\n",
    "id_number: int | str = 42\n",
    "id_number: int | str = \"ABC123\"\n",
    "\n",
    "# Union (either type)\n",
    "id_number: Union[int, str] = 42\n",
    "id_number: Union[int, str] = \"ABC123\"\n",
    "\n",
    "# All of these are the same:\n",
    "name: str | None = \"Alice\" # Python 3.10+\n",
    "name: Union[str, None] = \"Alice\"\n",
    "name: Optional[str] = \"Alice\"  "
   ]
  },
  {
   "cell_type": "markdown",
   "id": "16d697c5",
   "metadata": {},
   "source": [
    "## Callable types"
   ]
  },
  {
   "cell_type": "code",
   "execution_count": null,
   "id": "cc7f7107",
   "metadata": {},
   "outputs": [],
   "source": [
    "from typing import Callable\n",
    "\n",
    "# Callable types\n",
    "def apply_func(f: Callable[[int], str], x: int) -> str:\n",
    "    \"\"\"Apply function f to x.\"\"\"\n",
    "    return f(x)\n",
    "\n",
    "# More specific callable\n",
    "operation: Callable[[int, int], int] = lambda x, y: x + y"
   ]
  },
  {
   "cell_type": "code",
   "execution_count": 10,
   "id": "2c61a41d",
   "metadata": {},
   "outputs": [],
   "source": [
    "def g(x: int) -> str:\n",
    "    return str(x)"
   ]
  },
  {
   "cell_type": "code",
   "execution_count": 11,
   "id": "5dd311f0",
   "metadata": {},
   "outputs": [
    {
     "data": {
      "text/plain": [
       "'5'"
      ]
     },
     "execution_count": 11,
     "metadata": {},
     "output_type": "execute_result"
    }
   ],
   "source": [
    "apply_func(g, 5)"
   ]
  },
  {
   "cell_type": "markdown",
   "id": "08c19350",
   "metadata": {},
   "source": [
    "## Type variables"
   ]
  },
  {
   "cell_type": "code",
   "execution_count": 12,
   "id": "d39e44fa",
   "metadata": {},
   "outputs": [],
   "source": [
    "from typing import TypeVar\n",
    "\n",
    "T = TypeVar('T')\n",
    "def identity(x: T) -> T:\n",
    "    \"\"\"Return the same value.\"\"\"\n",
    "    return x"
   ]
  },
  {
   "cell_type": "code",
   "execution_count": 14,
   "id": "e126542e",
   "metadata": {},
   "outputs": [
    {
     "name": "stdout",
     "output_type": "stream",
     "text": [
      "<class 'int'>\n"
     ]
    },
    {
     "data": {
      "text/plain": [
       "9"
      ]
     },
     "execution_count": 14,
     "metadata": {},
     "output_type": "execute_result"
    }
   ],
   "source": [
    "print(type(identity(9)))\n",
    "identity(9)"
   ]
  },
  {
   "cell_type": "markdown",
   "id": "9993aa46",
   "metadata": {},
   "source": [
    "## Generic Classes"
   ]
  },
  {
   "cell_type": "code",
   "execution_count": 20,
   "id": "94661234",
   "metadata": {},
   "outputs": [],
   "source": [
    "# Generic classes\n",
    "from typing import Generic\n",
    "class Box(Generic[T]):\n",
    "    def __init__(self, value: T) -> None:\n",
    "        \"\"\"Initialize box with value.\"\"\"\n",
    "        self._value = value\n",
    "    \n",
    "    @property\n",
    "    def value(self) -> T:\n",
    "        \"\"\"Get the value.\"\"\"\n",
    "        return self._value\n"
   ]
  },
  {
   "cell_type": "code",
   "execution_count": 21,
   "id": "0600db6f",
   "metadata": {},
   "outputs": [
    {
     "data": {
      "text/plain": [
       "42"
      ]
     },
     "execution_count": 21,
     "metadata": {},
     "output_type": "execute_result"
    }
   ],
   "source": [
    "box_int: Box[int] = Box(42)\n",
    "box_int.value"
   ]
  },
  {
   "cell_type": "code",
   "execution_count": 22,
   "id": "b96bb15d",
   "metadata": {},
   "outputs": [
    {
     "data": {
      "text/plain": [
       "'hello'"
      ]
     },
     "execution_count": 22,
     "metadata": {},
     "output_type": "execute_result"
    }
   ],
   "source": [
    "box_str: Box[str] = Box(\"hello\")\n",
    "box_str.value"
   ]
  },
  {
   "cell_type": "markdown",
   "id": "77a3c978",
   "metadata": {},
   "source": [
    "## Protocol (similar to interface)"
   ]
  },
  {
   "cell_type": "code",
   "execution_count": 31,
   "id": "6c867f2f",
   "metadata": {},
   "outputs": [
    {
     "name": "stdout",
     "output_type": "stream",
     "text": [
      "Drawing circle\n"
     ]
    }
   ],
   "source": [
    "from typing import Protocol\n",
    "\n",
    "class Drawable(Protocol):\n",
    "    def draw(self) -> None:\n",
    "        \"\"\"Draw the object.\"\"\"\n",
    "        ...\n",
    "\n",
    "class Circle:\n",
    "    def draw(self) -> None:\n",
    "        \"\"\"Draw a circle.\"\"\"\n",
    "        print(\"Drawing circle\")\n",
    "\n",
    "def render(obj: Drawable) -> None:\n",
    "    \"\"\"Render any drawable object.\"\"\"\n",
    "    obj.draw()\n",
    "\n",
    "# Circle implements Drawable protocol\n",
    "render(Circle())  # Works!"
   ]
  },
  {
   "cell_type": "markdown",
   "id": "428eba21",
   "metadata": {},
   "source": [
    "## Literal Types"
   ]
  },
  {
   "cell_type": "code",
   "execution_count": 25,
   "id": "1e01971d",
   "metadata": {},
   "outputs": [],
   "source": [
    "from typing import Literal\n",
    "\n",
    "def open_file(filename: str, mode: Literal[\"r\", \"w\", \"a\"]) -> None:\n",
    "                                          # ^^^^^^^^^^^^ IDE autocheck args\n",
    "    \"\"\"Open a file in specified mode.\"\"\"\n",
    "    pass"
   ]
  },
  {
   "cell_type": "code",
   "execution_count": 26,
   "id": "d82df497",
   "metadata": {},
   "outputs": [],
   "source": [
    "open_file(filename=\"x\", mode=\"b\")\n",
    "                        # ^^^^^^ Squzzy line will appear"
   ]
  },
  {
   "cell_type": "markdown",
   "id": "0e004b32",
   "metadata": {},
   "source": [
    "## Type Aliases"
   ]
  },
  {
   "cell_type": "code",
   "execution_count": 27,
   "id": "8bfe217c",
   "metadata": {},
   "outputs": [],
   "source": [
    "from typing import TypeAlias  # Python 3.10+\n",
    "\n",
    "# Simple alias\n",
    "Vector = list[float]\n",
    "Matrix = list[list[float]]\n",
    "\n",
    "# Python 3.10+ syntax\n",
    "UserId: TypeAlias = int\n",
    "UserDict: TypeAlias = dict[UserId, str]\n",
    "\n",
    "# Complex alias\n",
    "JSON = dict[str, Union[str, int, float, bool, None, list['JSON'], dict[str, 'JSON']]]\n",
    "\n",
    "# Using aliases\n",
    "def process_vector(v: Vector) -> float:\n",
    "    \"\"\"Process a vector.\"\"\"\n",
    "    return sum(v)"
   ]
  },
  {
   "cell_type": "markdown",
   "id": "344c4eb9",
   "metadata": {},
   "source": [
    "## TypedDict"
   ]
  },
  {
   "cell_type": "code",
   "execution_count": 28,
   "id": "56794db2",
   "metadata": {},
   "outputs": [],
   "source": [
    "from typing import TypedDict\n",
    "from typing import NotRequired  # Python 3.11+\n",
    "\n",
    "# Define structured dictionary\n",
    "class Person(TypedDict):\n",
    "    name: str\n",
    "    age: int\n",
    "    email: str\n",
    "\n",
    "# Optional fields\n",
    "class Employee(TypedDict):\n",
    "    name: str\n",
    "    age: int\n",
    "    email: NotRequired[str]  # Optional field\n",
    "\n",
    "# Using TypedDict\n",
    "person: Person = {\n",
    "    \"name\": \"Alice\",\n",
    "    \"age\": 30,\n",
    "    \"email\": \"alice@example.com\"\n",
    "}\n",
    "\n",
    "# Python 3.8+ total=False for all optional\n",
    "class Config(TypedDict, total=False):\n",
    "    debug: bool\n",
    "    timeout: int\n",
    "    host: str"
   ]
  },
  {
   "cell_type": "markdown",
   "id": "ce6ec520",
   "metadata": {},
   "source": []
  },
  {
   "cell_type": "markdown",
   "id": "eee677e0",
   "metadata": {},
   "source": [
    "## Overloading"
   ]
  },
  {
   "cell_type": "code",
   "execution_count": 29,
   "id": "ff9b2b85",
   "metadata": {},
   "outputs": [],
   "source": [
    "from typing import overload\n",
    "\n",
    "@overload\n",
    "def process(x: int) -> str:\n",
    "    ...\n",
    "\n",
    "@overload\n",
    "def process(x: str) -> int:\n",
    "    ...\n",
    "\n",
    "def process(x: Union[int, str]) -> Union[str, int]:\n",
    "    \"\"\"Process input based on type.\"\"\"\n",
    "    if isinstance(x, int):\n",
    "        return str(x)\n",
    "    else:\n",
    "        return len(x)"
   ]
  },
  {
   "cell_type": "markdown",
   "id": "0f8a3904",
   "metadata": {},
   "source": [
    "## Final and Constants"
   ]
  },
  {
   "cell_type": "code",
   "execution_count": 30,
   "id": "52f65a47",
   "metadata": {},
   "outputs": [],
   "source": [
    "from typing import Final\n",
    "from typing import final # Final methods and classes\n",
    "\n",
    "# Constants\n",
    "MAX_SIZE: Final[int] = 100\n",
    "API_URL: Final = \"https://api.example.com\"  # Type inferred\n",
    "\n",
    "@final\n",
    "class Constants:\n",
    "    \"\"\"Cannot be subclassed.\"\"\"\n",
    "    pass\n",
    "\n",
    "class Base:\n",
    "    @final\n",
    "    def method(self) -> None:\n",
    "        \"\"\"Cannot be overridden.\"\"\"\n",
    "        pass"
   ]
  },
  {
   "cell_type": "code",
   "execution_count": null,
   "id": "98713171",
   "metadata": {},
   "outputs": [],
   "source": []
  }
 ],
 "metadata": {
  "kernelspec": {
   "display_name": "ds-env",
   "language": "python",
   "name": "python3"
  },
  "language_info": {
   "codemirror_mode": {
    "name": "ipython",
    "version": 3
   },
   "file_extension": ".py",
   "mimetype": "text/x-python",
   "name": "python",
   "nbconvert_exporter": "python",
   "pygments_lexer": "ipython3",
   "version": "3.12.9"
  }
 },
 "nbformat": 4,
 "nbformat_minor": 5
}
