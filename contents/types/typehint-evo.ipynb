{
 "cells": [
  {
   "cell_type": "markdown",
   "id": "6ff6601f",
   "metadata": {},
   "source": [
    "# Type Hint: Evolution\n",
    "\n",
    "Source: <https://youtu.be/RwH2UzC2rIo?si=dJwlRhTjOlAx6lQ7>"
   ]
  },
  {
   "cell_type": "markdown",
   "id": "d633ba70",
   "metadata": {},
   "source": [
    "## Type Alias"
   ]
  },
  {
   "cell_type": "code",
   "execution_count": 2,
   "id": "783db886",
   "metadata": {},
   "outputs": [],
   "source": [
    "type RGB = tuple[int, int, int]\n",
    "type TripleInt = tuple[int, int, int]"
   ]
  },
  {
   "cell_type": "code",
   "execution_count": null,
   "id": "4769b688",
   "metadata": {},
   "outputs": [
    {
     "data": {
      "text/plain": [
       "False"
      ]
     },
     "metadata": {},
     "output_type": "display_data"
    }
   ],
   "source": [
    "RGB == TripleInt"
   ]
  },
  {
   "cell_type": "code",
   "execution_count": null,
   "id": "a1bda8ab",
   "metadata": {},
   "outputs": [],
   "source": [
    "type User = dict[str, str | int | None]"
   ]
  },
  {
   "cell_type": "code",
   "execution_count": null,
   "id": "17defe43",
   "metadata": {},
   "outputs": [],
   "source": [
    "def create_user(first_name: str, last_name: str, age: int | None = None) -> User:\n",
    "    email = f\"{first_name.lower()}_{last_name[0:3].lower()}@example.com\"\n",
    "    return {\n",
    "        \"first_name\": first_name,\n",
    "        \"last_name\": last_name,\n",
    "        \"age\": age,\n",
    "        \"email\": email\n",
    "    }"
   ]
  },
  {
   "cell_type": "code",
   "execution_count": null,
   "id": "a172b69f",
   "metadata": {},
   "outputs": [
    {
     "data": {
      "text/plain": [
       "{'first_name': 'kittipos',\n",
       " 'last_name': 'sirivong',\n",
       " 'age': None,\n",
       " 'email': 'kittipos_sir@example.com'}"
      ]
     },
     "metadata": {},
     "output_type": "display_data"
    }
   ],
   "source": [
    "create_user(\"kittipos\", \"sirivong\", None)"
   ]
  },
  {
   "cell_type": "markdown",
   "id": "6ccff44a",
   "metadata": {},
   "source": [
    "## `NewType`"
   ]
  },
  {
   "cell_type": "code",
   "execution_count": 1,
   "id": "185d0901",
   "metadata": {},
   "outputs": [],
   "source": [
    "from typing import NewType"
   ]
  },
  {
   "cell_type": "code",
   "execution_count": 5,
   "id": "88e76363",
   "metadata": {},
   "outputs": [],
   "source": [
    "RGB = NewType(\"RGB\", tuple[int, int, int]) \n",
    "HSL = NewType(\"HSL\", tuple[int, int, int]) \n",
    "\n",
    "type User = dict[str, str | int | None | RGB]"
   ]
  },
  {
   "cell_type": "code",
   "execution_count": 7,
   "id": "1b39ef58",
   "metadata": {},
   "outputs": [],
   "source": [
    "def create_user(first_name: str, last_name: str, age: int | None = None, fav_color: RGB | None = None) -> User:\n",
    "    email = f\"{first_name.lower()}_{last_name[0:3].lower()}@example.com\"\n",
    "    return {\n",
    "        \"first_name\": first_name,\n",
    "        \"last_name\": last_name,\n",
    "        \"age\": age,\n",
    "        \"email\": email,\n",
    "        \"fav_color\": fav_color\n",
    "    }"
   ]
  },
  {
   "cell_type": "code",
   "execution_count": 8,
   "id": "8eecc9be",
   "metadata": {},
   "outputs": [
    {
     "data": {
      "text/plain": [
       "{'first_name': 'kittipos',\n",
       " 'last_name': 'sirivong',\n",
       " 'age': None,\n",
       " 'email': 'kittipos_sir@example.com',\n",
       " 'fav_color': (122, 334, 433)}"
      ]
     },
     "execution_count": 8,
     "metadata": {},
     "output_type": "execute_result"
    }
   ],
   "source": [
    "create_user(\"kittipos\", \"sirivong\", None, RGB((122, 334, 433)))"
   ]
  },
  {
   "cell_type": "code",
   "execution_count": null,
   "id": "1f0aec3b",
   "metadata": {},
   "outputs": [
    {
     "data": {
      "text/plain": [
       "{'first_name': 'kittipos',\n",
       " 'last_name': 'sirivong',\n",
       " 'age': None,\n",
       " 'email': 'kittipos_sir@example.com',\n",
       " 'fav_color': (122, 334, 433)}"
      ]
     },
     "execution_count": 9,
     "metadata": {},
     "output_type": "execute_result"
    }
   ],
   "source": [
    "# Will warn wrong type\n",
    "create_user(\"kittipos\", \"sirivong\", None, HSL((122, 334, 433)))"
   ]
  },
  {
   "cell_type": "markdown",
   "id": "db94f209",
   "metadata": {},
   "source": [
    "## `TypedDict`"
   ]
  },
  {
   "cell_type": "code",
   "execution_count": 10,
   "id": "3faf0f8d",
   "metadata": {},
   "outputs": [],
   "source": [
    "from typing import TypedDict\n",
    "\n",
    "class User(TypedDict):\n",
    "    first_name: str\n",
    "    last_name: str\n",
    "    age: int | None\n",
    "    email: str\n",
    "    fav_color: RGB | None"
   ]
  },
  {
   "cell_type": "code",
   "execution_count": null,
   "id": "d3acd2f1",
   "metadata": {},
   "outputs": [],
   "source": [
    "def create_user(first_name: str, last_name: str, age: int | None = None, fav_color: RGB | None = None) -> User:\n",
    "    email = f\"{first_name.lower()}_{last_name[0:3].lower()}@example.com\"\n",
    "    return {\n",
    "        \"first_name\": first_name,\n",
    "        \"last_name\": last_name,\n",
    "        \"age\": str(age), # Wrong type\n",
    "        \"email\": email,\n",
    "        \"fav_color\": fav_color\n",
    "    }"
   ]
  },
  {
   "cell_type": "markdown",
   "id": "eace57e4",
   "metadata": {},
   "source": [
    "## DataClass"
   ]
  },
  {
   "cell_type": "code",
   "execution_count": 12,
   "id": "07c8bd06",
   "metadata": {},
   "outputs": [],
   "source": [
    "from dataclasses import dataclass"
   ]
  },
  {
   "cell_type": "code",
   "execution_count": 17,
   "id": "36a08156",
   "metadata": {},
   "outputs": [],
   "source": [
    "@dataclass\n",
    "class User:\n",
    "    first_name: str\n",
    "    last_name: str\n",
    "    email: str\n",
    "    age: int | None = None\n",
    "    fav_color: RGB | None = None"
   ]
  },
  {
   "cell_type": "code",
   "execution_count": 18,
   "id": "6e84cb23",
   "metadata": {},
   "outputs": [],
   "source": [
    "def create_user(\n",
    "    first_name: str,\n",
    "    last_name: str,\n",
    "    age: int | None = None,\n",
    "    fav_color: RGB | None = None,\n",
    ") -> User:\n",
    "    email = f\"{first_name.lower()}_{last_name[0:3].lower()}@example.com\"\n",
    "    return User(\n",
    "        first_name=first_name,\n",
    "        last_name=last_name,\n",
    "        email=email,\n",
    "        age=age,\n",
    "        fav_color=fav_color,\n",
    "    )\n"
   ]
  },
  {
   "cell_type": "code",
   "execution_count": 22,
   "id": "83e806fe",
   "metadata": {},
   "outputs": [
    {
     "data": {
      "text/plain": [
       "User(first_name='kittipos', last_name='sirivong', email='kittipos_sir@example.com', age=None, fav_color=(122, 334, 433))"
      ]
     },
     "execution_count": 22,
     "metadata": {},
     "output_type": "execute_result"
    }
   ],
   "source": [
    "create_user(\"kittipos\", \"sirivong\", None, RGB((122, 334, 433)))"
   ]
  },
  {
   "cell_type": "markdown",
   "id": "3e68af50",
   "metadata": {},
   "source": [
    "## Generic Type (`TypeVar`)"
   ]
  },
  {
   "cell_type": "code",
   "execution_count": 25,
   "id": "2fcd8cf3",
   "metadata": {},
   "outputs": [],
   "source": [
    "from typing import TypeVar\n",
    "import random"
   ]
  },
  {
   "cell_type": "code",
   "execution_count": null,
   "id": "544bfb68",
   "metadata": {},
   "outputs": [],
   "source": [
    "T = TypeVar(\"T\")\n",
    "\n",
    "def random_choice(items: list[T]) -> T:\n",
    "    return random.choice(items)\n",
    "\n",
    "# Or\n",
    "\n",
    "def random_choice2[T](items: list[T]) -> T:\n",
    "    return random.choice(items)"
   ]
  },
  {
   "cell_type": "code",
   "execution_count": 27,
   "id": "295afeb7",
   "metadata": {},
   "outputs": [],
   "source": [
    "user1 = create_user(\"kittipos\", \"sirivong\", None, RGB((122, 334, 433)))\n",
    "user2 = create_user(\"lightbridge\", \"ks\", None, RGB((122, 334, 433)))"
   ]
  },
  {
   "cell_type": "code",
   "execution_count": 28,
   "id": "b316f3af",
   "metadata": {},
   "outputs": [
    {
     "data": {
      "text/plain": [
       "User(first_name='lightbridge', last_name='ks', email='lightbridge_ks@example.com', age=None, fav_color=(122, 334, 433))"
      ]
     },
     "execution_count": 28,
     "metadata": {},
     "output_type": "execute_result"
    }
   ],
   "source": [
    "random_choice([user1, user2])"
   ]
  },
  {
   "cell_type": "code",
   "execution_count": 29,
   "id": "de79d30d",
   "metadata": {},
   "outputs": [
    {
     "data": {
      "text/plain": [
       "'kittipos_sir@example.com'"
      ]
     },
     "execution_count": 29,
     "metadata": {},
     "output_type": "execute_result"
    }
   ],
   "source": [
    "random_choice([user1.email, user2.email])"
   ]
  }
 ],
 "metadata": {
  "kernelspec": {
   "display_name": "ds-env",
   "language": "python",
   "name": "python3"
  },
  "language_info": {
   "codemirror_mode": {
    "name": "ipython",
    "version": 3
   },
   "file_extension": ".py",
   "mimetype": "text/x-python",
   "name": "python",
   "nbconvert_exporter": "python",
   "pygments_lexer": "ipython3",
   "version": "3.12.9"
  }
 },
 "nbformat": 4,
 "nbformat_minor": 5
}
