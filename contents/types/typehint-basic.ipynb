{
 "cells": [
  {
   "cell_type": "markdown",
   "id": "3fc64e70",
   "metadata": {},
   "source": [
    "# Typehint (Basic)\n",
    "\n",
    "**Source:** <https://fastapi.tiangolo.com/python-types/>"
   ]
  },
  {
   "cell_type": "markdown",
   "id": "8627d19f",
   "metadata": {},
   "source": [
    "## Simple Types"
   ]
  },
  {
   "cell_type": "code",
   "execution_count": 1,
   "id": "f445671a",
   "metadata": {},
   "outputs": [],
   "source": [
    "def get_items(item_a: str, item_b: int, item_c: float, item_d: bool, item_e: bytes):\n",
    "    return item_a, item_b, item_c, item_d, item_d, item_e"
   ]
  },
  {
   "cell_type": "markdown",
   "id": "0ba37c3d",
   "metadata": {},
   "source": [
    "## Generic Types"
   ]
  },
  {
   "cell_type": "markdown",
   "id": "23a24e10",
   "metadata": {},
   "source": [
    "### List"
   ]
  },
  {
   "cell_type": "code",
   "execution_count": 2,
   "id": "5d1ef215",
   "metadata": {},
   "outputs": [],
   "source": [
    "def process_items(items: list[str]):\n",
    "    for item in items:\n",
    "        print(item)"
   ]
  },
  {
   "cell_type": "markdown",
   "id": "0a35376c",
   "metadata": {},
   "source": [
    "### Tuple and Set"
   ]
  },
  {
   "cell_type": "code",
   "execution_count": 3,
   "id": "c00b6053",
   "metadata": {},
   "outputs": [],
   "source": [
    "def process_items(items_t: tuple[int, int, str], items_s: set[bytes]):\n",
    "    return items_t, items_s"
   ]
  },
  {
   "cell_type": "markdown",
   "id": "2f3c27c7",
   "metadata": {},
   "source": [
    "### Dict"
   ]
  },
  {
   "cell_type": "code",
   "execution_count": 4,
   "id": "d9c094d5",
   "metadata": {},
   "outputs": [],
   "source": [
    "def process_items(prices: dict[str, float]):\n",
    "    for item_name, item_price in prices.items():\n",
    "        print(item_name)\n",
    "        print(item_price)"
   ]
  },
  {
   "cell_type": "markdown",
   "id": "e54c8677",
   "metadata": {},
   "source": [
    "### Union"
   ]
  },
  {
   "cell_type": "code",
   "execution_count": 5,
   "id": "8ed22d6a",
   "metadata": {},
   "outputs": [],
   "source": [
    "# Python 3.10 (a lot better and simpler)\n",
    "def process_item(item: int | str):\n",
    "    print(item)"
   ]
  },
  {
   "cell_type": "code",
   "execution_count": 6,
   "id": "a2edc880",
   "metadata": {},
   "outputs": [],
   "source": [
    "from typing import Union\n",
    "\n",
    "def process_item(item: Union[int, str]):\n",
    "    print(item)"
   ]
  },
  {
   "cell_type": "markdown",
   "id": "c22a5e8d",
   "metadata": {},
   "source": [
    "### Optional (possibly `None`)\n",
    "\n",
    "`Optional[Something]` is actually a shortcut for `Union[Something, None]`, they are equivalent."
   ]
  },
  {
   "cell_type": "code",
   "execution_count": 7,
   "id": "51baa17f",
   "metadata": {},
   "outputs": [],
   "source": [
    "from typing import Optional\n",
    "\n",
    "\n",
    "def say_hi(name: Optional[str] = None):\n",
    "    if name is not None:\n",
    "        print(f\"Hey {name}!\")\n",
    "    else:\n",
    "        print(\"Hello World\")"
   ]
  },
  {
   "cell_type": "markdown",
   "id": "67db6fef",
   "metadata": {},
   "source": [
    "## Classes as types"
   ]
  },
  {
   "cell_type": "code",
   "execution_count": 8,
   "id": "1da15e1a",
   "metadata": {},
   "outputs": [],
   "source": [
    "class Person:\n",
    "    def __init__(self, name: str):\n",
    "        self.name = name\n",
    "\n",
    "\n",
    "def get_person_name(one_person: Person):\n",
    "    return one_person.name"
   ]
  },
  {
   "cell_type": "markdown",
   "id": "30dad477",
   "metadata": {},
   "source": [
    "## Pydantic Models"
   ]
  },
  {
   "cell_type": "code",
   "execution_count": 9,
   "id": "f2cec0d6",
   "metadata": {},
   "outputs": [
    {
     "name": "stdout",
     "output_type": "stream",
     "text": [
      "id=123 name='John Doe' signup_ts=datetime.datetime(2017, 6, 1, 12, 22) friends=[1, 2, 3]\n",
      "123\n"
     ]
    }
   ],
   "source": [
    "from datetime import datetime\n",
    "\n",
    "from pydantic import BaseModel\n",
    "\n",
    "\n",
    "class User(BaseModel):\n",
    "    id: int\n",
    "    name: str = \"John Doe\"\n",
    "    signup_ts: datetime | None = None\n",
    "    friends: list[int] = []\n",
    "\n",
    "\n",
    "external_data = {\n",
    "    \"id\": \"123\",\n",
    "    \"signup_ts\": \"2017-06-01 12:22\",\n",
    "    \"friends\": [1, \"2\", b\"3\"],\n",
    "}\n",
    "user = User(**external_data)\n",
    "print(user)\n",
    "# > User id=123 name='John Doe' signup_ts=datetime.datetime(2017, 6, 1, 12, 22) friends=[1, 2, 3]\n",
    "print(user.id)\n",
    "# > 123"
   ]
  },
  {
   "cell_type": "markdown",
   "id": "29b72655",
   "metadata": {},
   "source": [
    "## Type Hints with Metadata Annotations"
   ]
  },
  {
   "cell_type": "code",
   "execution_count": 11,
   "id": "c9a903c0",
   "metadata": {},
   "outputs": [],
   "source": [
    "from typing import Annotated\n",
    "\n",
    "\n",
    "def say_hello(name: Annotated[str, \"this is just metadata\"]) -> str:\n",
    "    return f\"Hello {name}\""
   ]
  }
 ],
 "metadata": {
  "kernelspec": {
   "display_name": "ds-env",
   "language": "python",
   "name": "python3"
  },
  "language_info": {
   "codemirror_mode": {
    "name": "ipython",
    "version": 3
   },
   "file_extension": ".py",
   "mimetype": "text/x-python",
   "name": "python",
   "nbconvert_exporter": "python",
   "pygments_lexer": "ipython3",
   "version": "3.12.9"
  }
 },
 "nbformat": 4,
 "nbformat_minor": 5
}
