{
 "cells": [
  {
   "cell_type": "markdown",
   "id": "c288e7b8",
   "metadata": {},
   "source": [
    "# Async Programming (Intro)\n",
    "\n",
    "Modern versions of Python have support for \"asynchronous code\" using something called \"coroutines\", with `async` and `await` syntax.\n",
    "\n",
    "Asynchronous programming allows your program to work on multiple tasks without blocking. Think of it like a restaurant kitchen - instead of waiting for one dish to cook completely before starting another, the chef starts multiple dishes and tends to them as needed."
   ]
  },
  {
   "cell_type": "markdown",
   "id": "a42ce2fe",
   "metadata": {},
   "source": [
    "## Key Concepts"
   ]
  },
  {
   "cell_type": "markdown",
   "id": "95b4cd1f",
   "metadata": {},
   "source": [
    "### Coroutines\n",
    "\n",
    "A coroutine is a special function defined with `async def`. It can pause and resume execution."
   ]
  },
  {
   "cell_type": "code",
   "execution_count": 6,
   "id": "9d1b7547",
   "metadata": {},
   "outputs": [],
   "source": [
    "import asyncio\n",
    "\n",
    "async def fetch_data():\n",
    "    \"\"\"Simulate fetching data from API\"\"\"\n",
    "    print(\"Starting to fetch...\")\n",
    "    await asyncio.sleep(2)  # Simulates I/O operation\n",
    "    print(\"Data fetched!\")\n",
    "    return {\"data\": \"example\"}"
   ]
  },
  {
   "cell_type": "code",
   "execution_count": 7,
   "id": "1233227d",
   "metadata": {},
   "outputs": [
    {
     "data": {
      "text/plain": [
       "<coroutine object fetch_data at 0x107d12f80>"
      ]
     },
     "execution_count": 7,
     "metadata": {},
     "output_type": "execute_result"
    }
   ],
   "source": [
    "fetch_data()"
   ]
  },
  {
   "cell_type": "markdown",
   "id": "582775dd",
   "metadata": {},
   "source": [
    "### The Event Loop\n",
    "\n",
    "The event loop is the core of async programming - it manages and executes coroutines.\n",
    "\n",
    "```\n",
    "┌─────────────────────────────────────┐\n",
    "│          EVENT LOOP                 │\n",
    "│                                     │\n",
    "│  ┌─────────┐  ┌─────────┐           │\n",
    "│  │ Task 1  │  │ Task 2  │  ...      │\n",
    "│  └────┬────┘  └────┬────┘           │\n",
    "│       │            │                │\n",
    "│       ▼            ▼                │\n",
    "│   [Running]    [Waiting]            │\n",
    "│                                     │\n",
    "└─────────────────────────────────────┘\n",
    "```"
   ]
  },
  {
   "cell_type": "markdown",
   "id": "d1e50c37",
   "metadata": {},
   "source": [
    "## Basic Example"
   ]
  },
  {
   "cell_type": "code",
   "execution_count": null,
   "id": "71fd5e10",
   "metadata": {},
   "outputs": [
    {
     "name": "stdout",
     "output_type": "stream",
     "text": [
      "Hello, Bob!\n",
      "Hello, Alice!\n",
      "Hello, Charlie!\n"
     ]
    }
   ],
   "source": [
    "import asyncio\n",
    "\n",
    "async def say_hello(name, delay):\n",
    "    \"\"\"Greet after delay\"\"\"\n",
    "    await asyncio.sleep(delay)\n",
    "    print(f\"Hello, {name}!\")"
   ]
  },
  {
   "cell_type": "code",
   "execution_count": 15,
   "id": "d2cbb240",
   "metadata": {},
   "outputs": [
    {
     "name": "stdout",
     "output_type": "stream",
     "text": [
      "Hello, Bob!\n",
      "Hello, Alice!\n",
      "Hello, Charlie!\n"
     ]
    }
   ],
   "source": [
    "# Concurrent\n",
    "async def main():\n",
    "    \"\"\"Run multiple greetings concurrently\"\"\"\n",
    "    # Create tasks\n",
    "    task1 = asyncio.create_task(say_hello(\"Alice\", 2))\n",
    "    task2 = asyncio.create_task(say_hello(\"Bob\", 1))\n",
    "    task3 = asyncio.create_task(say_hello(\"Charlie\", 3))\n",
    "    \n",
    "    # Wait for all tasks concurrently\n",
    "    await asyncio.gather(task1, task2, task3)\n",
    "\n",
    "# Run the async program\n",
    "await main()"
   ]
  },
  {
   "cell_type": "markdown",
   "id": "880698bc",
   "metadata": {},
   "source": [
    "```\n",
    "Time →\n",
    "0s      1s      2s      3s\n",
    "│       │       │       │\n",
    "├───────┼───────┼───────┤\n",
    "│                       │\n",
    "Task1: [====await====][done]\n",
    "│                       │\n",
    "Task2: [=await=][done]  │\n",
    "│                       │\n",
    "Task3: [======await======][done]\n",
    "        ↑       ↑       ↑\n",
    "        │       │       │\n",
    "     Bob says  Alice  Charlie\n",
    "      hello    says    says\n",
    "               hello   hello\n",
    "```"
   ]
  },
  {
   "cell_type": "markdown",
   "id": "4538dc54",
   "metadata": {},
   "source": [
    "## Example: Fetching Multiple URLs"
   ]
  },
  {
   "cell_type": "code",
   "execution_count": 18,
   "id": "86aef61d",
   "metadata": {},
   "outputs": [],
   "source": [
    "import asyncio\n",
    "import aiohttp\n",
    "import time\n",
    "\n",
    "async def fetch_url(session, url):\n",
    "    \"\"\"Fetch a single URL\"\"\"\n",
    "    async with session.get(url) as response:\n",
    "        return await response.text()"
   ]
  },
  {
   "cell_type": "code",
   "execution_count": null,
   "id": "21f1d6e3",
   "metadata": {},
   "outputs": [],
   "source": [
    "# Sequential\n",
    "async def fetch_all_sync_style():\n",
    "    \"\"\"Fetch URLs one by one (slow)\"\"\"\n",
    "    urls = [\n",
    "        \"https://api.github.com/users/python\",\n",
    "        \"https://api.github.com/users/github\",\n",
    "        \"https://api.github.com/users/torvalds\"\n",
    "    ]\n",
    "    \n",
    "    async with aiohttp.ClientSession() as session:\n",
    "        for url in urls:\n",
    "            data = await fetch_url(session, url)\n",
    "            print(f\"Fetched {len(data)} bytes from {url}\")"
   ]
  },
  {
   "cell_type": "code",
   "execution_count": 20,
   "id": "145e8093",
   "metadata": {},
   "outputs": [],
   "source": [
    "# Concurrent\n",
    "async def fetch_all_async_style():\n",
    "    \"\"\"Fetch URLs concurrently (fast)\"\"\"\n",
    "    urls = [\n",
    "        \"https://api.github.com/users/python\",\n",
    "        \"https://api.github.com/users/github\",\n",
    "        \"https://api.github.com/users/torvalds\"\n",
    "    ]\n",
    "    \n",
    "    async with aiohttp.ClientSession() as session:\n",
    "        tasks = [fetch_url(session, url) for url in urls]\n",
    "        results = await asyncio.gather(*tasks)\n",
    "        \n",
    "        for url, data in zip(urls, results):\n",
    "            print(f\"Fetched {len(data)} bytes from {url}\")"
   ]
  },
  {
   "cell_type": "code",
   "execution_count": 22,
   "id": "fef9dc02",
   "metadata": {},
   "outputs": [
    {
     "name": "stdout",
     "output_type": "stream",
     "text": [
      "Synchronous style:\n",
      "Fetched 1263 bytes from https://api.github.com/users/python\n",
      "Fetched 1241 bytes from https://api.github.com/users/github\n",
      "Fetched 1223 bytes from https://api.github.com/users/torvalds\n",
      "Time: 1.02s\n",
      "\n",
      "Asynchronous style:\n",
      "Fetched 1263 bytes from https://api.github.com/users/python\n",
      "Fetched 1241 bytes from https://api.github.com/users/github\n",
      "Fetched 1223 bytes from https://api.github.com/users/torvalds\n",
      "Time: 0.12s\n"
     ]
    }
   ],
   "source": [
    "# Compare performance\n",
    "async def main():\n",
    "    print(\"Synchronous style:\")\n",
    "    start = time.time()\n",
    "    await fetch_all_sync_style()\n",
    "    print(f\"Time: {time.time() - start:.2f}s\\n\")\n",
    "    \n",
    "    print(\"Asynchronous style:\")\n",
    "    start = time.time()\n",
    "    await fetch_all_async_style()\n",
    "    print(f\"Time: {time.time() - start:.2f}s\")\n",
    "\n",
    "await main()"
   ]
  },
  {
   "cell_type": "markdown",
   "id": "5a18f0a4",
   "metadata": {},
   "source": [
    "## Common Patterns"
   ]
  },
  {
   "cell_type": "markdown",
   "id": "f5b79109",
   "metadata": {},
   "source": [
    "### Using `asyncio.gather()`"
   ]
  },
  {
   "cell_type": "code",
   "execution_count": 29,
   "id": "7f0998c3",
   "metadata": {},
   "outputs": [],
   "source": [
    "async def task_a():\n",
    "    \"\"\"First task\"\"\"\n",
    "    await asyncio.sleep(1)\n",
    "    return \"Result A\"\n",
    "\n",
    "async def task_b():\n",
    "    \"\"\"Second task\"\"\"\n",
    "    await asyncio.sleep(2)\n",
    "    return \"Result B\"\n",
    "\n",
    "async def main():\n",
    "    \"\"\"Run tasks concurrently\"\"\"\n",
    "    results = await asyncio.gather(task_a(), task_b())\n",
    "    print(results)  # ['Result A', 'Result B']"
   ]
  },
  {
   "cell_type": "code",
   "execution_count": 35,
   "id": "14e239c6",
   "metadata": {},
   "outputs": [
    {
     "name": "stdout",
     "output_type": "stream",
     "text": [
      "['Result A', 'Result B']\n",
      "Time: 2.00s\n"
     ]
    }
   ],
   "source": [
    "start: float = time.time()\n",
    "await main()\n",
    "print(f\"Time: {time.time() - start:.2f}s\")"
   ]
  },
  {
   "cell_type": "markdown",
   "id": "1d9ff658",
   "metadata": {},
   "source": [
    "### Using `asyncio.create_task()`"
   ]
  },
  {
   "cell_type": "code",
   "execution_count": 37,
   "id": "57724b4f",
   "metadata": {},
   "outputs": [],
   "source": [
    "async def background_task():\n",
    "    \"\"\"Long running task\"\"\"\n",
    "    while True:\n",
    "        print(\"Background work...\")\n",
    "        await asyncio.sleep(5)\n",
    "\n",
    "async def main():\n",
    "    \"\"\"Main with background task\"\"\"\n",
    "    # Start background task\n",
    "    task = asyncio.create_task(background_task())\n",
    "    \n",
    "    # Do other work\n",
    "    await asyncio.sleep(10)\n",
    "    \n",
    "    # Cancel background task\n",
    "    task.cancel()"
   ]
  },
  {
   "cell_type": "code",
   "execution_count": 38,
   "id": "f5c8beb3",
   "metadata": {},
   "outputs": [
    {
     "name": "stdout",
     "output_type": "stream",
     "text": [
      "Background work...\n",
      "Background work...\n",
      "Time: 10.00s\n"
     ]
    }
   ],
   "source": [
    "start: float = time.time()\n",
    "await main()\n",
    "print(f\"Time: {time.time() - start:.2f}s\")"
   ]
  },
  {
   "cell_type": "markdown",
   "id": "ae82a7ce",
   "metadata": {},
   "source": [
    "### Async Context Managers"
   ]
  },
  {
   "cell_type": "code",
   "execution_count": 39,
   "id": "41fd6a66",
   "metadata": {},
   "outputs": [],
   "source": [
    "class AsyncResource:\n",
    "    \"\"\"Example async context manager\"\"\"\n",
    "    async def __aenter__(self):\n",
    "        print(\"Acquiring resource...\")\n",
    "        await asyncio.sleep(1)\n",
    "        return self\n",
    "    \n",
    "    async def __aexit__(self, exc_type, exc_val, exc_tb):\n",
    "        print(\"Releasing resource...\")\n",
    "        await asyncio.sleep(0.5)\n",
    "\n",
    "async def main():\n",
    "    \"\"\"Use async context manager\"\"\"\n",
    "    async with AsyncResource() as resource:\n",
    "        print(\"Using resource\")"
   ]
  },
  {
   "cell_type": "code",
   "execution_count": 40,
   "id": "1152d7bc",
   "metadata": {},
   "outputs": [
    {
     "name": "stdout",
     "output_type": "stream",
     "text": [
      "Acquiring resource...\n",
      "Using resource\n",
      "Releasing resource...\n",
      "Time: 1.50s\n"
     ]
    }
   ],
   "source": [
    "start: float = time.time()\n",
    "await main()\n",
    "print(f\"Time: {time.time() - start:.2f}s\")"
   ]
  },
  {
   "cell_type": "markdown",
   "id": "3a26034b",
   "metadata": {},
   "source": [
    "## Concurrent vs Parallelism \n",
    "\n",
    "- **Concurrent** (Async/Await) -> I/O-bound operation\n",
    "\n",
    "- **Parallelism** -> CPU-bound operation\n"
   ]
  },
  {
   "cell_type": "markdown",
   "id": "86dcf73d",
   "metadata": {},
   "source": [
    "| Feature | Synchronous | Asynchronous |\n",
    "|---------|------------|--------------|\n",
    "| **Definition** | Executes one task at a time | Can handle multiple tasks concurrently |\n",
    "| **Syntax** | `def function():` | `async def function():` |\n",
    "| **Calling** | `result = function()` | `result = await function()` |\n",
    "| **Blocking** | Blocks until complete | Non-blocking, can switch tasks |\n",
    "| **Best for** | CPU-bound tasks | I/O-bound tasks |\n",
    "| **Complexity** | Simpler to understand | More complex flow |\n",
    "| **Performance** | Slower for I/O tasks | Faster for concurrent I/O |"
   ]
  }
 ],
 "metadata": {
  "kernelspec": {
   "display_name": "ds-env",
   "language": "python",
   "name": "python3"
  },
  "language_info": {
   "codemirror_mode": {
    "name": "ipython",
    "version": 3
   },
   "file_extension": ".py",
   "mimetype": "text/x-python",
   "name": "python",
   "nbconvert_exporter": "python",
   "pygments_lexer": "ipython3",
   "version": "3.12.9"
  }
 },
 "nbformat": 4,
 "nbformat_minor": 5
}
