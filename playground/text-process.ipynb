{
 "cells": [
  {
   "cell_type": "markdown",
   "metadata": {},
   "source": [
    "# Text Processing"
   ]
  },
  {
   "cell_type": "markdown",
   "metadata": {},
   "source": [
    "## TextWrap Module\n",
    "\n",
    "<https://docs.python.org/3/library/textwrap.html>"
   ]
  },
  {
   "cell_type": "code",
   "execution_count": 3,
   "metadata": {},
   "outputs": [],
   "source": [
    "import textwrap"
   ]
  },
  {
   "cell_type": "code",
   "execution_count": 5,
   "metadata": {},
   "outputs": [
    {
     "name": "stdout",
     "output_type": "stream",
     "text": [
      "'    hello\\n      world\\n    '\n",
      "'hello\\n  world\\n'\n"
     ]
    }
   ],
   "source": [
    "def test():\n",
    "    # end first line with \\ to avoid the empty line!\n",
    "    s = '''\\\n",
    "    hello\n",
    "      world\n",
    "    '''\n",
    "    print(repr(s))          # prints '    hello\\n      world\\n    '\n",
    "    print(repr(textwrap.dedent(s)))  # prints 'hello\\n  world\\n'\n",
    "\n",
    "test()"
   ]
  }
 ],
 "metadata": {
  "kernelspec": {
   "display_name": "Python 3",
   "language": "python",
   "name": "python3"
  },
  "language_info": {
   "codemirror_mode": {
    "name": "ipython",
    "version": 3
   },
   "file_extension": ".py",
   "mimetype": "text/x-python",
   "name": "python",
   "nbconvert_exporter": "python",
   "pygments_lexer": "ipython3",
   "version": "3.10.10"
  }
 },
 "nbformat": 4,
 "nbformat_minor": 2
}
