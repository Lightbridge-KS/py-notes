{
 "cells": [
  {
   "cell_type": "markdown",
   "metadata": {},
   "source": [
    "# OOP: Book Catalog"
   ]
  },
  {
   "cell_type": "markdown",
   "metadata": {},
   "source": [
    "## `Book` Class"
   ]
  },
  {
   "cell_type": "code",
   "execution_count": 6,
   "metadata": {},
   "outputs": [],
   "source": [
    "class Book:\n",
    "    def __init__(self, title, last, first):\n",
    "        self._title = title    #A\n",
    "        self._last  = last     #A\n",
    "        self._first = first    #A\n",
    "        \n",
    "    @property                            #B\n",
    "    def title(self): return self._title  #B\n",
    "                                         #B\n",
    "    @property                            #B\n",
    "    def last(self): return self._last    #B\n",
    "                                         #B\n",
    "    @property                            #B\n",
    "    def first(self): return self._first  #B\n",
    "\n",
    "    def __str__(self):\n",
    "        return (f\"{{TITLE: '{self._title}', LAST: '{self._last}', \"  #C\n",
    "                f\"FIRST: '{self._first}'}}\")                         #C"
   ]
  },
  {
   "cell_type": "markdown",
   "metadata": {},
   "source": [
    "## `Catalogue` Class"
   ]
  },
  {
   "cell_type": "code",
   "execution_count": 7,
   "metadata": {},
   "outputs": [],
   "source": [
    "class Catalogue:\n",
    "\n",
    "    @staticmethod\n",
    "    def _equal_ignore_case(target_str, other_str):\n",
    "        if len(target_str) == 0:   \n",
    "            return True\n",
    "        else:\n",
    "            return target_str.casefold() == other_str.casefold()    \n",
    "\n",
    "    def __init__(self):\n",
    "        self._booklist = []    \n",
    "        \n",
    "    def add(self, title, last, first):\n",
    "        book = Book(title, last, first)\n",
    "        self._booklist.append(book)\n",
    "    \n",
    "    def _is_match(self, book, target):\n",
    "        return (     Catalogue._equal_ignore_case(target.title, \n",
    "                                                  book.title)\n",
    "                 and Catalogue._equal_ignore_case(target.last,  \n",
    "                                                  book.last)\n",
    "                 and Catalogue._equal_ignore_case(target.first, \n",
    "                                                  book.first)\n",
    "        )\n",
    "    \n",
    "    def find(self, target):\n",
    "        return [book for book in self._booklist\n",
    "                    if self._is_match(book, target)\n",
    "        ]"
   ]
  },
  {
   "cell_type": "markdown",
   "metadata": {},
   "source": [
    "## Usage"
   ]
  },
  {
   "cell_type": "code",
   "execution_count": 9,
   "metadata": {},
   "outputs": [
    {
     "name": "stdout",
     "output_type": "stream",
     "text": [
      "\n",
      "Find {TITLE: 'Life of Pi', LAST: 'Martel', FIRST: 'Yann'}\n",
      "Matches:\n",
      "  {TITLE: 'Life of Pi', LAST: 'Martel', FIRST: 'Yann'}\n",
      "\n",
      "Find {TITLE: '', LAST: 'King', FIRST: ''}\n",
      "Matches:\n",
      "  {TITLE: 'Carrie', LAST: 'King', FIRST: 'Stephen'}\n",
      "  {TITLE: 'It: A Novel', LAST: 'King', FIRST: 'Stephen'}\n",
      "\n",
      "Find {TITLE: '1984', LAST: 'Orwell', FIRST: 'George'}\n",
      "No matches.\n",
      "\n",
      "Find {TITLE: '', LAST: '', FIRST: ''}\n",
      "Matches:\n",
      "  {TITLE: 'Life of Pi', LAST: 'Martel', FIRST: 'Yann'}\n",
      "  {TITLE: 'The Call of the Wild', LAST: 'London', FIRST: 'Jack'}\n",
      "  {TITLE: 'To Kill a Mockingbird', LAST: 'Lee', FIRST: 'Harper'}\n",
      "  {TITLE: 'Little Women', LAST: 'Alcott', FIRST: 'Louisa'}\n",
      "  {TITLE: 'The Adventures of Sherlock Holmes', LAST: 'Doyle', FIRST: 'Conan'}\n",
      "  {TITLE: 'And Then There Were None', LAST: 'Christie', FIRST: 'Agatha'}\n",
      "  {TITLE: 'Carrie', LAST: 'King', FIRST: 'Stephen'}\n",
      "  {TITLE: 'It: A Novel', LAST: 'King', FIRST: 'Stephen'}\n",
      "  {TITLE: 'Frankenstein', LAST: 'Shelley', FIRST: 'Mary'}\n",
      "  {TITLE: '2001: A Space Odyssey', LAST: 'Clarke', FIRST: 'Arthur'}\n",
      "  {TITLE: 'Ender's Game', LAST: 'Card', FIRST: 'Orson'}\n"
     ]
    }
   ],
   "source": [
    "def fill(catalogue):    #A\n",
    "    catalogue.add(\"Life of Pi\", \"Martel\", \"Yann\")\n",
    "    catalogue.add(\"The Call of the Wild\", \"London\", \"Jack\")\n",
    "\n",
    "    catalogue.add(\"To Kill a Mockingbird\", \"Lee\", \"Harper\")\n",
    "    catalogue.add(\"Little Women\", \"Alcott\", \"Louisa\")\n",
    "\n",
    "    catalogue.add(\"The Adventures of Sherlock Holmes\", \"Doyle\", \"Conan\")\n",
    "    catalogue.add(\"And Then There Were None\", \"Christie\", \"Agatha\")\n",
    "\n",
    "    catalogue.add(\"Carrie\", \"King\", \"Stephen\")\n",
    "    catalogue.add(\"It: A Novel\", \"King\", \"Stephen\")\n",
    "    catalogue.add(\"Frankenstein\", \"Shelley\", \"Mary\")\n",
    "\n",
    "    catalogue.add(\"2001: A Space Odyssey\", \"Clarke\", \"Arthur\")\n",
    "    catalogue.add(\"Ender's Game\", \"Card\", \"Orson\")\n",
    "\n",
    "def search(catalogue, target):    #B\n",
    "    print()\n",
    "    print(\"Find \", end=\"\")\n",
    "    print(target)\n",
    "    \n",
    "    matches = catalogue.find(target)\n",
    "    \n",
    "    if len(matches) == 0:\n",
    "        print(\"No matches.\")\n",
    "    else:\n",
    "        print(\"Matches:\")\n",
    "        \n",
    "        for book in matches:\n",
    "            print(\"  \", end=\"\")\n",
    "            print(book)\n",
    "            \n",
    "def test(catalogue):    #C\n",
    "    target = Book(\"Life of Pi\", \"Martel\", \"Yann\")\n",
    "    search(catalogue, target)\n",
    "\n",
    "    target = Book(\"\", \"King\", \"\")\n",
    "    search(catalogue, target)\n",
    "    \n",
    "    target = Book(\"1984\", \"Orwell\", \"George\")\n",
    "    search(catalogue, target)\n",
    "\n",
    "    target = Book(\"\", \"\", \"\")    #D\n",
    "    search(catalogue, target)\n",
    "\n",
    "\n",
    "catalogue = Catalogue()    \n",
    "fill(catalogue)    \n",
    "test(catalogue)    "
   ]
  }
 ],
 "metadata": {
  "kernelspec": {
   "display_name": "Python 3",
   "language": "python",
   "name": "python3"
  },
  "language_info": {
   "codemirror_mode": {
    "name": "ipython",
    "version": 3
   },
   "file_extension": ".py",
   "mimetype": "text/x-python",
   "name": "python",
   "nbconvert_exporter": "python",
   "pygments_lexer": "ipython3",
   "version": "3.10.10"
  }
 },
 "nbformat": 4,
 "nbformat_minor": 2
}
