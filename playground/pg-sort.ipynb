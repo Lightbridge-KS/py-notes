{
 "cells": [
  {
   "cell_type": "markdown",
   "metadata": {},
   "source": [
    "# PG: Sort"
   ]
  },
  {
   "cell_type": "markdown",
   "metadata": {},
   "source": [
    "## Sort List according to sequence in another 1. \n",
    "\n",
    "Sort the content of `ls1` according to the order they appear in `ls_ref`\n"
   ]
  },
  {
   "cell_type": "code",
   "execution_count": 30,
   "metadata": {},
   "outputs": [],
   "source": [
    "ls_ref = [\"mary\", \"jones\", \"abc\", \"234\", \"cars\", \"hi\"]\n",
    "ls1 = [\"234\", \"mary\", \"abc\"]"
   ]
  },
  {
   "cell_type": "markdown",
   "metadata": {},
   "source": [
    "### My Solution"
   ]
  },
  {
   "cell_type": "code",
   "execution_count": 31,
   "metadata": {},
   "outputs": [
    {
     "name": "stdout",
     "output_type": "stream",
     "text": [
      "['mary', 'abc', '234']\n"
     ]
    }
   ],
   "source": [
    "ls_out = []\n",
    "\n",
    "for x in ls_ref:\n",
    "    if x in ls1:\n",
    "        ls_out.append(x)\n",
    "    else:\n",
    "        continue\n",
    "    \n",
    "print(ls_out)"
   ]
  },
  {
   "cell_type": "code",
   "execution_count": 34,
   "metadata": {},
   "outputs": [
    {
     "data": {
      "text/plain": [
       "['mary', 'abc', '234']"
      ]
     },
     "execution_count": 34,
     "metadata": {},
     "output_type": "execute_result"
    }
   ],
   "source": [
    "[x for x in ls_ref if x in ls1]"
   ]
  },
  {
   "cell_type": "markdown",
   "metadata": {},
   "source": [
    "### Optimized\n",
    "\n",
    "To make the algorithm more efficient, you can:\n",
    "\n",
    "- Convert `ls1` into a set to reduce the time complexity of the membership test from O(n) to O(1) (constant time).\n",
    "- Use a list comprehension for a cleaner and more Pythonic solution."
   ]
  },
  {
   "cell_type": "code",
   "execution_count": 35,
   "metadata": {},
   "outputs": [
    {
     "name": "stdout",
     "output_type": "stream",
     "text": [
      "{'234', 'abc', 'mary'}\n",
      "['mary', 'abc', '234']\n"
     ]
    }
   ],
   "source": [
    "# Convert ls1 to a set for O(1) lookup\n",
    "set_ls1 = set(ls1)\n",
    "print(set_ls1)\n",
    "\n",
    "# List comprehension with O(1) lookups\n",
    "ls_out = [x for x in ls_ref if x in set_ls1]\n",
    "\n",
    "print(ls_out)"
   ]
  },
  {
   "cell_type": "code",
   "execution_count": 25,
   "metadata": {},
   "outputs": [
    {
     "data": {
      "text/plain": [
       "{0: 'mary', 1: 'jones', 2: 'abc', 3: '234', 4: 'cars', 5: 'hi'}"
      ]
     },
     "execution_count": 25,
     "metadata": {},
     "output_type": "execute_result"
    }
   ],
   "source": [
    "dict(zip(list(range(0, len(ls_ref))), ls_ref))"
   ]
  },
  {
   "cell_type": "code",
   "execution_count": 24,
   "metadata": {},
   "outputs": [
    {
     "data": {
      "text/plain": [
       "[0, 1, 2, 3]"
      ]
     },
     "execution_count": 24,
     "metadata": {},
     "output_type": "execute_result"
    }
   ],
   "source": [
    "sorted(\"This is a test string from Andrew\".split(), key=str.casefold)\n",
    "sorted({0: 'mary', 1: 'jones', 2: 'abc', 3: '234'})"
   ]
  }
 ],
 "metadata": {
  "kernelspec": {
   "display_name": "Python 3",
   "language": "python",
   "name": "python3"
  },
  "language_info": {
   "codemirror_mode": {
    "name": "ipython",
    "version": 3
   },
   "file_extension": ".py",
   "mimetype": "text/x-python",
   "name": "python",
   "nbconvert_exporter": "python",
   "pygments_lexer": "ipython3",
   "version": "3.10.10"
  }
 },
 "nbformat": 4,
 "nbformat_minor": 2
}
