{
 "cells": [
  {
   "cell_type": "markdown",
   "metadata": {},
   "source": [
    "# OOP: Fruit "
   ]
  },
  {
   "cell_type": "markdown",
   "metadata": {},
   "source": [
    "## Orange & Basket (v1)"
   ]
  },
  {
   "cell_type": "markdown",
   "metadata": {},
   "source": [
    "![Class Diagramme: Orange & Basket](./img/orange-basket-cls-1.png)"
   ]
  },
  {
   "cell_type": "markdown",
   "metadata": {},
   "source": [
    "### `Orange`"
   ]
  },
  {
   "cell_type": "code",
   "execution_count": 1,
   "metadata": {},
   "outputs": [],
   "source": [
    "from datetime import date\n",
    "from typing import List\n",
    "\n",
    "class Orange:\n",
    "    def __init__(self, weight: float, orchard: str, date_picked: date, basket: 'Basket' = None):\n",
    "        self.weight = weight\n",
    "        self.orchard = orchard\n",
    "        self.date_picked = date_picked\n",
    "        self.basket = basket\n",
    "\n",
    "    def __repr__(self):\n",
    "        return (f\"Orange(weight={self.weight}, orchard='{self.orchard}', \"\n",
    "                f\"date_picked={self.date_picked}, basket_location='{self.basket.location if self.basket else None}')\")\n"
   ]
  },
  {
   "cell_type": "markdown",
   "metadata": {},
   "source": [
    "### `Basket`"
   ]
  },
  {
   "cell_type": "code",
   "execution_count": 3,
   "metadata": {},
   "outputs": [],
   "source": [
    "class Basket:\n",
    "    def __init__(self, location: str):\n",
    "        self.location = location\n",
    "        self.oranges: List[Orange] = []\n",
    "\n",
    "    def add_orange(self, orange: Orange):\n",
    "        self.oranges.append(orange)\n",
    "        orange.basket = self\n",
    "\n",
    "    def __repr__(self):\n",
    "        return f\"Basket(location='{self.location}', oranges_count={len(self.oranges)})\"\n"
   ]
  },
  {
   "cell_type": "markdown",
   "metadata": {},
   "source": [
    "### Usage"
   ]
  },
  {
   "cell_type": "code",
   "execution_count": 5,
   "metadata": {},
   "outputs": [
    {
     "name": "stdout",
     "output_type": "stream",
     "text": [
      "Basket(location='Storage Room 1', oranges_count=2)\n",
      "Orange(weight=1.2, orchard='Orchard A', date_picked=2024-12-28, basket_location='Storage Room 1')\n",
      "Orange(weight=1.4, orchard='Orchard B', date_picked=2024-12-29, basket_location='Storage Room 1')\n"
     ]
    }
   ],
   "source": [
    "from datetime import date\n",
    "\n",
    "# Create a basket\n",
    "basket1 = Basket(location=\"Storage Room 1\")\n",
    "\n",
    "# Create oranges\n",
    "orange1 = Orange(weight=1.2, orchard=\"Orchard A\", date_picked=date(2024, 12, 28))\n",
    "orange2 = Orange(weight=1.4, orchard=\"Orchard B\", date_picked=date(2024, 12, 29))\n",
    "\n",
    "# Add oranges to the basket\n",
    "basket1.add_orange(orange1)\n",
    "basket1.add_orange(orange2)\n",
    "\n",
    "# Print details\n",
    "print(basket1)\n",
    "print(orange1)\n",
    "print(orange2)\n"
   ]
  },
  {
   "cell_type": "markdown",
   "metadata": {},
   "source": [
    "## Orange & Basket (v2)"
   ]
  },
  {
   "cell_type": "markdown",
   "metadata": {},
   "source": [
    "![Class Diagramme: Orange & Basket](./img/orange-basket-cls-2.png)"
   ]
  },
  {
   "cell_type": "markdown",
   "metadata": {},
   "source": [
    "### `Orange`"
   ]
  },
  {
   "cell_type": "markdown",
   "metadata": {},
   "source": [
    "#### Regular"
   ]
  },
  {
   "cell_type": "code",
   "execution_count": 6,
   "metadata": {},
   "outputs": [],
   "source": [
    "from datetime import date\n",
    "from typing import List\n",
    "\n",
    "\n",
    "class Orange:\n",
    "    def __init__(self, weight: float, orchard: str, date_picked: date):\n",
    "        self.weight = weight\n",
    "        self.orchard = orchard\n",
    "        self.date_picked = date_picked\n",
    "        self.basket = None  # Initially, the orange is not in any basket.\n",
    "\n",
    "    def pick(self, basket: 'Basket') -> None:\n",
    "        \"\"\"Place the orange in a basket.\"\"\"\n",
    "        basket.add_orange(self)\n",
    "\n",
    "    def squeeze(self) -> float:\n",
    "        \"\"\"Return the juice yield based on the weight of the orange.\n",
    "        Assume 50% of the weight is juice.\n",
    "        \"\"\"\n",
    "        return self.weight * 0.5\n",
    "\n",
    "    def __repr__(self):\n",
    "        return (f\"Orange(weight={self.weight}, orchard='{self.orchard}', \"\n",
    "                f\"date_picked={self.date_picked}, basket_location='{self.basket.location if self.basket else None}')\")"
   ]
  },
  {
   "cell_type": "markdown",
   "metadata": {},
   "source": [
    "#### DataClass"
   ]
  },
  {
   "cell_type": "code",
   "execution_count": 14,
   "metadata": {},
   "outputs": [],
   "source": [
    "from dataclasses import dataclass, field\n",
    "from datetime import date\n",
    "from typing import List, Optional\n",
    "\n",
    "@dataclass\n",
    "class Orange:\n",
    "    weight: float\n",
    "    orchard: str\n",
    "    date_picked: date\n",
    "    basket: Optional['Basket'] = None\n",
    "\n",
    "    def pick(self, basket: 'Basket') -> None:\n",
    "        \"\"\"Place the orange in a basket.\"\"\"\n",
    "        basket.add_orange(self)\n",
    "\n",
    "    def squeeze(self) -> float:\n",
    "        \"\"\"Return the juice yield based on the weight of the orange.\n",
    "        Assume 50% of the weight is juice.\n",
    "        \"\"\"\n",
    "        return self.weight * 0.5\n",
    "\n",
    "    def __repr__(self):\n",
    "        basket_location = self.basket.location if self.basket else None\n",
    "        return (f\"Orange(weight={self.weight}, orchard='{self.orchard}', \"\n",
    "                f\"date_picked={self.date_picked}, basket_location='{basket_location}')\")\n"
   ]
  },
  {
   "cell_type": "markdown",
   "metadata": {},
   "source": [
    "### `Basket`"
   ]
  },
  {
   "cell_type": "markdown",
   "metadata": {},
   "source": [
    "### Regular"
   ]
  },
  {
   "cell_type": "code",
   "execution_count": 7,
   "metadata": {},
   "outputs": [],
   "source": [
    "class Basket:\n",
    "    def __init__(self, location: str):\n",
    "        self.location = location\n",
    "        self.oranges: List[Orange] = []\n",
    "\n",
    "    def add_orange(self, orange: Orange) -> None:\n",
    "        \"\"\"Add an orange to the basket.\"\"\"\n",
    "        self.oranges.append(orange)\n",
    "        orange.basket = self\n",
    "\n",
    "    def sell(self, customer: str) -> None:\n",
    "        \"\"\"Sell all oranges in the basket to a customer.\"\"\"\n",
    "        print(f\"Sold {len(self.oranges)} oranges to {customer}.\")\n",
    "        self.oranges.clear()\n",
    "\n",
    "    def discard(self) -> None:\n",
    "        \"\"\"Discard all oranges in the basket.\"\"\"\n",
    "        print(f\"Discarded {len(self.oranges)} oranges from basket at {self.location}.\")\n",
    "        self.oranges.clear()\n",
    "\n",
    "    def __repr__(self):\n",
    "        return f\"Basket(location='{self.location}', oranges_count={len(self.oranges)})\"\n"
   ]
  },
  {
   "cell_type": "markdown",
   "metadata": {},
   "source": [
    "#### DataClass"
   ]
  },
  {
   "cell_type": "code",
   "execution_count": 15,
   "metadata": {},
   "outputs": [],
   "source": [
    "@dataclass\n",
    "class Basket:\n",
    "    location: str\n",
    "    oranges: List[Orange] = field(default_factory=list)\n",
    "\n",
    "    def add_orange(self, orange: Orange) -> None:\n",
    "        \"\"\"Add an orange to the basket.\"\"\"\n",
    "        self.oranges.append(orange)\n",
    "        orange.basket = self\n",
    "\n",
    "    def sell(self, customer: str) -> None:\n",
    "        \"\"\"Sell all oranges in the basket to a customer.\"\"\"\n",
    "        print(f\"Sold {len(self.oranges)} oranges to {customer}.\")\n",
    "        self.oranges.clear()\n",
    "\n",
    "    def discard(self) -> None:\n",
    "        \"\"\"Discard all oranges in the basket.\"\"\"\n",
    "        print(f\"Discarded {len(self.oranges)} oranges from basket at {self.location}.\")\n",
    "        self.oranges.clear()\n",
    "\n",
    "    def __repr__(self):\n",
    "        return f\"Basket(location='{self.location}', oranges_count={len(self.oranges)})\""
   ]
  },
  {
   "cell_type": "markdown",
   "metadata": {},
   "source": [
    "### Usage"
   ]
  },
  {
   "cell_type": "code",
   "execution_count": 16,
   "metadata": {},
   "outputs": [
    {
     "name": "stdout",
     "output_type": "stream",
     "text": [
      "Juice yield from orange1: 0.6 liters\n",
      "Sold 2 oranges to John Doe.\n",
      "Discarded 2 oranges from basket at Storage Room 1.\n"
     ]
    }
   ],
   "source": [
    "from datetime import date\n",
    "\n",
    "# Create a basket\n",
    "basket1 = Basket(location=\"Storage Room 1\")\n",
    "\n",
    "# Create oranges\n",
    "orange1 = Orange(weight=1.2, orchard=\"Orchard A\", date_picked=date(2024, 12, 28))\n",
    "orange2 = Orange(weight=1.4, orchard=\"Orchard B\", date_picked=date(2024, 12, 29))\n",
    "\n",
    "# Pick oranges into the basket\n",
    "orange1.pick(basket1)\n",
    "orange2.pick(basket1)\n",
    "\n",
    "# Squeeze juice from one orange\n",
    "print(f\"Juice yield from orange1: {orange1.squeeze()} liters\")\n",
    "\n",
    "# Sell all oranges in the basket\n",
    "basket1.sell(customer=\"John Doe\")\n",
    "\n",
    "# Add and discard oranges\n",
    "basket1.add_orange(orange1)\n",
    "basket1.add_orange(orange2)\n",
    "basket1.discard()\n"
   ]
  }
 ],
 "metadata": {
  "kernelspec": {
   "display_name": "Python 3",
   "language": "python",
   "name": "python3"
  },
  "language_info": {
   "codemirror_mode": {
    "name": "ipython",
    "version": 3
   },
   "file_extension": ".py",
   "mimetype": "text/x-python",
   "name": "python",
   "nbconvert_exporter": "python",
   "pygments_lexer": "ipython3",
   "version": "3.10.10"
  }
 },
 "nbformat": 4,
 "nbformat_minor": 2
}
