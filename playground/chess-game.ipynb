{
 "cells": [
  {
   "cell_type": "markdown",
   "metadata": {},
   "source": [
    "# Chess Game"
   ]
  },
  {
   "cell_type": "markdown",
   "metadata": {},
   "source": [
    "![Chest Game Class Diagram](./img/chest-game-cls-1.png)\n",
    "\n",
    "\n",
    "A *game* of chess is **played** between two *players*, using a chess set featuring a *board* containing 64 *positions* in an 8 × 8 grid. The board can have two sets of 16 *pieces* that can be **moved**, in alternating *turns* by the two players in different ways. Each piece can **take** other pieces. The board will be required to **draw** itself on the computer *screen* after each turn.\n",
    "\n",
    "I've identified some of the possible objects in the description using *italics*, and a few key methods using **bold**. This is a common first step in turning an object-oriented analysis into a design. At this point, to emphasize composition, we'll focus on the board, without worrying too much about the players or the different types of pieces."
   ]
  },
  {
   "cell_type": "code",
   "execution_count": 5,
   "metadata": {},
   "outputs": [],
   "source": [
    "from typing import List, Optional\n",
    "from dataclasses import dataclass\n",
    "from enum import Enum"
   ]
  },
  {
   "cell_type": "markdown",
   "metadata": {},
   "source": [
    "## Child Component"
   ]
  },
  {
   "cell_type": "markdown",
   "metadata": {},
   "source": [
    "### Enum: `PieceType`, `Color`"
   ]
  },
  {
   "cell_type": "code",
   "execution_count": 6,
   "metadata": {},
   "outputs": [],
   "source": [
    "class PieceType(Enum):\n",
    "    KING = \"King\"\n",
    "    QUEEN = \"Queen\"\n",
    "    ROOK = \"Rook\"\n",
    "    BISHOP = \"Bishop\"\n",
    "    KNIGHT = \"Knight\"\n",
    "    PAWN = \"Pawn\"\n",
    "\n",
    "class Color(Enum):\n",
    "    WHITE = \"White\"\n",
    "    BLACK = \"Black\""
   ]
  },
  {
   "cell_type": "markdown",
   "metadata": {},
   "source": [
    "### Class: `Position`"
   ]
  },
  {
   "cell_type": "code",
   "execution_count": 7,
   "metadata": {},
   "outputs": [],
   "source": [
    "@dataclass\n",
    "class Position:\n",
    "    \"\"\"\n",
    "    Represents a position on the chess board.\n",
    "    \n",
    "    Parameters\n",
    "    ----------\n",
    "    x : int\n",
    "        The x-coordinate (0-7)\n",
    "    y : int\n",
    "        The y-coordinate (0-7)\n",
    "    chess_board : Board\n",
    "        Reference to the board this position belongs to\n",
    "    \"\"\"\n",
    "    x: int\n",
    "    y: int\n",
    "    chess_board: 'Board'\n",
    "\n",
    "    def __str__(self) -> str:\n",
    "        \"\"\"Convert position to chess notation (e.g., 'a1', 'e4')\"\"\"\n",
    "        return f\"{chr(97 + self.x)}{self.y + 1}\""
   ]
  },
  {
   "cell_type": "markdown",
   "metadata": {},
   "source": [
    "### Class: `Piece`"
   ]
  },
  {
   "cell_type": "code",
   "execution_count": 8,
   "metadata": {},
   "outputs": [],
   "source": [
    "class Piece:\n",
    "    \"\"\"\n",
    "    Represents a chess piece.\n",
    "    \n",
    "    Parameters\n",
    "    ----------\n",
    "    piece_type : PieceType\n",
    "        The type of the piece (King, Queen, etc.)\n",
    "    color : Color\n",
    "        The color of the piece (White or Black)\n",
    "    chess_set : ChessSet\n",
    "        Reference to the chess set this piece belongs to\n",
    "    \"\"\"\n",
    "    def __init__(self, piece_type: PieceType, color: Color, chess_set: 'ChessSet'):\n",
    "        self.piece_type = piece_type\n",
    "        self.color = color\n",
    "        self.chess_set = chess_set\n",
    "        self.position: Optional[Position] = None\n",
    "\n",
    "    def __str__(self) -> str:\n",
    "        return f\"{self.color.value} {self.piece_type.value}\"\n",
    "\n",
    "    def move(self, new_position: Position) -> bool:\n",
    "        \"\"\"\n",
    "        Move the piece to a new position.\n",
    "        \n",
    "        Parameters\n",
    "        ----------\n",
    "        new_position : Position\n",
    "            The target position to move to\n",
    "            \n",
    "        Returns\n",
    "        -------\n",
    "        bool\n",
    "            True if the move was successful, False otherwise\n",
    "        \"\"\"\n",
    "        # Basic validation (implement proper chess rules later)\n",
    "        if 0 <= new_position.x < 8 and 0 <= new_position.y < 8:\n",
    "            self.position = new_position\n",
    "            return True\n",
    "        return False"
   ]
  },
  {
   "cell_type": "markdown",
   "metadata": {},
   "source": [
    "### Class: `Board`"
   ]
  },
  {
   "cell_type": "code",
   "execution_count": 9,
   "metadata": {},
   "outputs": [],
   "source": [
    "class Board:\n",
    "    \"\"\"\n",
    "    Represents the chess board.\n",
    "    \n",
    "    Parameters\n",
    "    ----------\n",
    "    chess_set : ChessSet\n",
    "        Reference to the chess set this board belongs to\n",
    "    \"\"\"\n",
    "    def __init__(self, chess_set: 'ChessSet'):\n",
    "        self.chess_set = chess_set\n",
    "        self.positions = [[Position(x, y, self) for x in range(8)] for y in range(8)]\n",
    "\n",
    "    def draw(self):\n",
    "        \"\"\"Draw the current state of the board\"\"\"\n",
    "        print(\"  a b c d e f g h\")\n",
    "        print(\"  ---------------\")\n",
    "        for y in range(7, -1, -1):\n",
    "            row = f\"{y+1}|\"\n",
    "            for x in range(8):\n",
    "                piece = self.get_piece_at_position(x, y)\n",
    "                if piece:\n",
    "                    symbol = piece.piece_type.value[0]\n",
    "                    symbol = symbol.lower() if piece.color == Color.BLACK else symbol.upper()\n",
    "                else:\n",
    "                    symbol = \".\"\n",
    "                row += f\"{symbol}|\"\n",
    "            print(row)\n",
    "        print(\"  ---------------\")\n",
    "\n",
    "    def get_piece_at_position(self, x: int, y: int) -> Optional[Piece]:\n",
    "        \"\"\"\n",
    "        Get the piece at a specific position.\n",
    "        \n",
    "        Parameters\n",
    "        ----------\n",
    "        x : int\n",
    "            The x-coordinate\n",
    "        y : int\n",
    "            The y-coordinate\n",
    "            \n",
    "        Returns\n",
    "        -------\n",
    "        Optional[Piece]\n",
    "            The piece at the position, or None if empty\n",
    "        \"\"\"\n",
    "        for piece in self.chess_set.pieces:\n",
    "            if piece.position and piece.position.x == x and piece.position.y == y:\n",
    "                return piece\n",
    "        return None\n"
   ]
  },
  {
   "cell_type": "markdown",
   "metadata": {},
   "source": [
    "## `ChessSet`"
   ]
  },
  {
   "cell_type": "code",
   "execution_count": 10,
   "metadata": {},
   "outputs": [],
   "source": [
    "class ChessSet:\n",
    "    \"\"\"\n",
    "    Represents a complete chess set with pieces and board.\n",
    "    \"\"\"\n",
    "    def __init__(self):\n",
    "        self.board = Board(self)\n",
    "        self.pieces: List[Piece] = []\n",
    "        self._initialize_pieces()\n",
    "\n",
    "    def _initialize_pieces(self):\n",
    "        \"\"\"Initialize all chess pieces in their starting positions\"\"\"\n",
    "        # Initialize white pieces\n",
    "        self._create_pieces(Color.WHITE)\n",
    "        # Initialize black pieces\n",
    "        self._create_pieces(Color.BLACK)\n",
    "\n",
    "    def _create_pieces(self, color: Color):\n",
    "        \"\"\"Create pieces for one side\"\"\"\n",
    "        base_row = 0 if color == Color.WHITE else 7\n",
    "        pawn_row = 1 if color == Color.WHITE else 6\n",
    "\n",
    "        # Create back row pieces\n",
    "        piece_types = [\n",
    "            PieceType.ROOK, PieceType.KNIGHT, PieceType.BISHOP, PieceType.QUEEN,\n",
    "            PieceType.KING, PieceType.BISHOP, PieceType.KNIGHT, PieceType.ROOK\n",
    "        ]\n",
    "        \n",
    "        for x, piece_type in enumerate(piece_types):\n",
    "            piece = Piece(piece_type, color, self)\n",
    "            piece.position = Position(x, base_row, self.board)\n",
    "            self.pieces.append(piece)\n",
    "\n",
    "        # Create pawns\n",
    "        for x in range(8):\n",
    "            pawn = Piece(PieceType.PAWN, color, self)\n",
    "            pawn.position = Position(x, pawn_row, self.board)\n",
    "            self.pieces.append(pawn)\n"
   ]
  },
  {
   "cell_type": "markdown",
   "metadata": {},
   "source": [
    "## `Player`"
   ]
  },
  {
   "cell_type": "code",
   "execution_count": 12,
   "metadata": {},
   "outputs": [],
   "source": [
    "\n",
    "class Player:\n",
    "    \"\"\"\n",
    "    Represents a chess player.\n",
    "    \n",
    "    Parameters\n",
    "    ----------\n",
    "    name : str\n",
    "        The name of the player\n",
    "    color : Color\n",
    "        The color of pieces the player controls\n",
    "    \"\"\"\n",
    "    def __init__(self, name: str, color: Color):\n",
    "        self.name = name\n",
    "        self.color = color\n",
    "\n",
    "    def make_move(self, chess_set: ChessSet, from_pos: str, to_pos: str) -> bool:\n",
    "        \"\"\"\n",
    "        Make a move on the chess board.\n",
    "        \n",
    "        Parameters\n",
    "        ----------\n",
    "        chess_set : ChessSet\n",
    "            The chess set to make the move on\n",
    "        from_pos : str\n",
    "            Starting position in chess notation (e.g., 'e2')\n",
    "        to_pos : str\n",
    "            Target position in chess notation (e.g., 'e4')\n",
    "            \n",
    "        Returns\n",
    "        -------\n",
    "        bool\n",
    "            True if the move was successful, False otherwise\n",
    "        \"\"\"\n",
    "        # Convert chess notation to coordinates\n",
    "        from_x = ord(from_pos[0].lower()) - 97\n",
    "        from_y = int(from_pos[1]) - 1\n",
    "        to_x = ord(to_pos[0].lower()) - 97\n",
    "        to_y = int(to_pos[1]) - 1\n",
    "\n",
    "        # Find the piece to move\n",
    "        piece = chess_set.board.get_piece_at_position(from_x, from_y)\n",
    "        if not piece or piece.color != self.color:\n",
    "            return False\n",
    "\n",
    "        # Create new position and attempt move\n",
    "        new_position = Position(to_x, to_y, chess_set.board)\n",
    "        return piece.move(new_position)\n"
   ]
  },
  {
   "cell_type": "markdown",
   "metadata": {},
   "source": [
    "## Example Usage"
   ]
  },
  {
   "cell_type": "code",
   "execution_count": 15,
   "metadata": {},
   "outputs": [],
   "source": [
    "# Create chess set\n",
    "chess_set = ChessSet()\n",
    "\n",
    "# Create players\n",
    "player1 = Player(\"Player 1\", Color.WHITE)\n",
    "player2 = Player(\"Player 2\", Color.BLACK)"
   ]
  },
  {
   "cell_type": "code",
   "execution_count": 21,
   "metadata": {},
   "outputs": [
    {
     "name": "stdout",
     "output_type": "stream",
     "text": [
      "  a b c d e f g h\n",
      "  ---------------\n",
      "8|r|k|b|q|k|b|k|r|\n",
      "7|p|p|p|p|.|p|p|p|\n",
      "6|.|.|.|.|.|.|.|.|\n",
      "5|.|.|.|.|p|.|.|.|\n",
      "4|.|.|.|.|P|.|.|.|\n",
      "3|.|.|.|.|.|.|.|.|\n",
      "2|P|P|P|P|.|P|P|P|\n",
      "1|R|K|B|Q|K|B|K|R|\n",
      "  ---------------\n",
      "\n",
      "Making some moves:\n",
      "  a b c d e f g h\n",
      "  ---------------\n",
      "8|r|k|b|q|k|b|k|r|\n",
      "7|p|p|p|p|.|p|p|p|\n",
      "6|.|.|.|.|.|.|.|.|\n",
      "5|.|.|.|.|p|.|.|.|\n",
      "4|.|.|.|.|P|.|.|.|\n",
      "3|.|.|.|.|.|.|.|.|\n",
      "2|P|P|P|P|.|P|P|P|\n",
      "1|R|K|B|Q|K|B|K|R|\n",
      "  ---------------\n"
     ]
    }
   ],
   "source": [
    "# Draw initial board\n",
    "chess_set.board.draw()\n",
    "\n",
    "# White pawn move\n",
    "print(\"\\nMaking some moves:\")\n",
    "player1.make_move(chess_set, \"e2\", \"e4\")  \n",
    "chess_set.board.draw()\n"
   ]
  },
  {
   "cell_type": "code",
   "execution_count": 22,
   "metadata": {},
   "outputs": [
    {
     "name": "stdout",
     "output_type": "stream",
     "text": [
      "  a b c d e f g h\n",
      "  ---------------\n",
      "8|r|k|b|q|k|b|k|r|\n",
      "7|p|p|p|p|.|p|p|p|\n",
      "6|.|.|.|.|.|.|.|.|\n",
      "5|.|.|.|.|p|.|.|.|\n",
      "4|.|.|.|.|P|.|.|.|\n",
      "3|.|.|.|.|.|.|.|.|\n",
      "2|P|P|P|P|.|P|P|P|\n",
      "1|R|K|B|Q|K|B|K|R|\n",
      "  ---------------\n"
     ]
    }
   ],
   "source": [
    "# Black pawn move\n",
    "player2.make_move(chess_set, \"e7\", \"e5\")  \n",
    "chess_set.board.draw()"
   ]
  }
 ],
 "metadata": {
  "kernelspec": {
   "display_name": "Python 3",
   "language": "python",
   "name": "python3"
  },
  "language_info": {
   "codemirror_mode": {
    "name": "ipython",
    "version": 3
   },
   "file_extension": ".py",
   "mimetype": "text/x-python",
   "name": "python",
   "nbconvert_exporter": "python",
   "pygments_lexer": "ipython3",
   "version": "3.10.10"
  }
 },
 "nbformat": 4,
 "nbformat_minor": 2
}
