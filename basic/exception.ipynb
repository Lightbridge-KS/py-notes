{
  "cells": [
    {
      "cell_type": "markdown",
      "metadata": {},
      "source": [
        "# Exception \n",
        "\n",
        "<!-- ```{r}\n",
        "#| include: false\n",
        "library(here)\n",
        "here::i_am(\"basic/exception.qmd\")\n",
        "source(here(\"_common.R\"))\n",
        "``` -->\n",
        "\n",
        "## Raising Exception\n"
      ],
      "id": "9548cf1a"
    },
    {
      "cell_type": "code",
      "metadata": {},
      "source": [
        "x = 10\n",
        "if x > 5:\n",
        "    raise Exception('x should not exceed 5. The value of x was: {}'.format(x))"
      ],
      "id": "8caf5cc9",
      "execution_count": null,
      "outputs": []
    },
    {
      "cell_type": "markdown",
      "metadata": {},
      "source": [
        "## `AssertionError` Exception\n"
      ],
      "id": "6ed71a10"
    },
    {
      "cell_type": "code",
      "metadata": {},
      "source": [
        "import sys\n",
        "assert ('linux' in sys.platform), \"This code runs on Linux only.\""
      ],
      "id": "ec9aba5b",
      "execution_count": null,
      "outputs": []
    },
    {
      "cell_type": "markdown",
      "metadata": {},
      "source": [
        "## `try` and `except` Block\n",
        "\n",
        "Python executes code following the `try` statement as a “normal” part of the program. The code that follows the `except` statement is the program’s response to any exceptions in the preceding `try` clause.\n",
        "\n",
        "### Ex: Linux function\n"
      ],
      "id": "dc668a9f"
    },
    {
      "cell_type": "code",
      "metadata": {},
      "source": [
        "def linux_interaction():\n",
        "    assert ('linux' in sys.platform), \"Function can only run on Linux systems.\"\n",
        "    print('Doing something.')"
      ],
      "id": "74ae04bd",
      "execution_count": null,
      "outputs": []
    },
    {
      "cell_type": "code",
      "metadata": {},
      "source": [
        "def mac_interaction():\n",
        "    assert ('darwin' in sys.platform), \"Function can only run on MacOS systems.\"\n",
        "    print('Doing something.')"
      ],
      "id": "37445077",
      "execution_count": null,
      "outputs": []
    },
    {
      "cell_type": "code",
      "metadata": {},
      "source": [
        "try:\n",
        "    linux_interaction()\n",
        "except:\n",
        "    print('Linux function was not executed')"
      ],
      "id": "da9aafe9",
      "execution_count": null,
      "outputs": []
    },
    {
      "cell_type": "code",
      "metadata": {},
      "source": [
        "try:\n",
        "    linux_interaction()\n",
        "except AssertionError as error:\n",
        "    print(error)\n",
        "    print('The linux_interaction() function was not executed')"
      ],
      "id": "a613767f",
      "execution_count": null,
      "outputs": []
    },
    {
      "cell_type": "markdown",
      "metadata": {},
      "source": [
        "### Ex: Int & Float\n"
      ],
      "id": "0dd48106"
    },
    {
      "cell_type": "code",
      "metadata": {},
      "source": [
        "def get_int(x):\n",
        "    try:\n",
        "        return int(x)\n",
        "    except ValueError:\n",
        "        print(f\"'{x}' is not a number\")"
      ],
      "id": "ecb7ae77",
      "execution_count": null,
      "outputs": []
    },
    {
      "cell_type": "code",
      "metadata": {},
      "source": [
        "get_int(5)\n",
        "get_int(-1)\n",
        "get_int(5.6)\n",
        "get_int(\"cat\")"
      ],
      "id": "72dbd09c",
      "execution_count": null,
      "outputs": []
    },
    {
      "cell_type": "code",
      "metadata": {},
      "source": [
        "def attempt_float(x):\n",
        "    try:\n",
        "        return float(x)\n",
        "    except ValueError:\n",
        "        return x"
      ],
      "id": "f314a2d7",
      "execution_count": null,
      "outputs": []
    },
    {
      "cell_type": "code",
      "metadata": {},
      "source": [
        "attempt_float(\"2\")\n",
        "attempt_float(\"X\")"
      ],
      "id": "a789899b",
      "execution_count": null,
      "outputs": []
    },
    {
      "cell_type": "markdown",
      "metadata": {},
      "source": [
        "using `pass` to return `NoneType` and not print anything\n"
      ],
      "id": "2cef4c3a"
    },
    {
      "cell_type": "code",
      "metadata": {},
      "source": [
        "def get_int2(x):\n",
        "    try:\n",
        "        return int(x)\n",
        "    except ValueError:\n",
        "        pass"
      ],
      "id": "5fda0b01",
      "execution_count": null,
      "outputs": []
    },
    {
      "cell_type": "code",
      "metadata": {},
      "source": [
        "get_int2(2)\n",
        "get_int2(\"Cat\") # Nothing\n",
        "\n",
        "type(get_int2(\"Cat\"))"
      ],
      "id": "bfb7307d",
      "execution_count": null,
      "outputs": []
    },
    {
      "cell_type": "markdown",
      "metadata": {},
      "source": [
        "`isnumeric()` to check whether string is all numeric. But, it's not very effective:\n"
      ],
      "id": "9f03cec3"
    },
    {
      "cell_type": "code",
      "metadata": {},
      "source": [
        "\"123\".isnumeric() # Only case that works\n",
        "\"12.3\".isnumeric()\n",
        "\"-1\".isnumeric()\n",
        "\"cat\".isnumeric()"
      ],
      "id": "39fd0a3d",
      "execution_count": null,
      "outputs": []
    },
    {
      "cell_type": "markdown",
      "metadata": {},
      "source": [
        "### Ex: Try open file\n"
      ],
      "id": "d584c53d"
    },
    {
      "cell_type": "code",
      "metadata": {},
      "source": [
        "try:\n",
        "    with open('file.log') as file:\n",
        "        read_data = file.read()\n",
        "except:\n",
        "    print('Could not open file.log')"
      ],
      "id": "1211a978",
      "execution_count": null,
      "outputs": []
    },
    {
      "cell_type": "code",
      "metadata": {},
      "source": [
        "try:\n",
        "    with open('file.log') as file:\n",
        "        read_data = file.read()\n",
        "except FileNotFoundError as fnf_error:\n",
        "    print(fnf_error)"
      ],
      "id": "2e112536",
      "execution_count": null,
      "outputs": []
    },
    {
      "cell_type": "code",
      "metadata": {},
      "source": [
        "try:\n",
        "    linux_interaction() # <-- AssertionError trigger in this line\n",
        "    with open('file.log') as file:\n",
        "        read_data = file.read()\n",
        "except FileNotFoundError as fnf_error:\n",
        "    print(fnf_error)\n",
        "except AssertionError as error: \n",
        "    print(error) \n",
        "    print('Linux linux_interaction() function was not executed')"
      ],
      "id": "b6f4affc",
      "execution_count": null,
      "outputs": []
    },
    {
      "cell_type": "code",
      "metadata": {},
      "source": [
        "try:\n",
        "    mac_interaction()\n",
        "    with open('file.log') as file: # <-- FileNotFoundError trigger in this line\n",
        "        read_data = file.read()\n",
        "except FileNotFoundError as fnf_error:\n",
        "    print(fnf_error)\n",
        "except AssertionError as error:\n",
        "    print(error)\n",
        "    print('Linux mac_interaction() function was not executed')"
      ],
      "id": "d1ad3d05",
      "execution_count": null,
      "outputs": []
    },
    {
      "cell_type": "markdown",
      "metadata": {},
      "source": [
        "### Always close File \n",
        "\n",
        "```python\n",
        "f = open(path, mode=\"w\")\n",
        "\n",
        "try:\n",
        "    write_to_file(f)\n",
        "except:\n",
        "    print(\"Failed\")\n",
        "else:\n",
        "    print(\"Succeeded\")\n",
        "finally:\n",
        "    f.close()\n",
        "```\n"
      ],
      "id": "f9f53ecc"
    }
  ],
  "metadata": {
    "kernelspec": {
      "name": "python3",
      "language": "python",
      "display_name": "Python 3 (ipykernel)"
    }
  },
  "nbformat": 4,
  "nbformat_minor": 5
}