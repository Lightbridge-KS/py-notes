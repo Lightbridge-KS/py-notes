{
 "cells": [
  {
   "cell_type": "markdown",
   "metadata": {},
   "source": [
    "# Context Manager (Custom)"
   ]
  },
  {
   "cell_type": "code",
   "execution_count": 1,
   "metadata": {},
   "outputs": [],
   "source": [
    "import time"
   ]
  },
  {
   "cell_type": "code",
   "execution_count": 7,
   "metadata": {},
   "outputs": [],
   "source": [
    "class Timer:\n",
    "    def __init__(self, name: str):\n",
    "        self.name = name\n",
    "    def __enter__(self):\n",
    "        self._start_time = time.perf_counter()\n",
    "        print(f\"Starting timer for {self.name}\")\n",
    "        return self\n",
    "    def __exit__(self, exc_type, exc_value, traceback):\n",
    "        self._end_time = time.perf_counter()\n",
    "        elapsed_time = self._end_time - self._start_time\n",
    "        print(f\"Timer for {self.name} finished. Elapsed time: {elapsed_time:.4f} seconds\")"
   ]
  },
  {
   "cell_type": "code",
   "execution_count": 8,
   "metadata": {},
   "outputs": [
    {
     "name": "stdout",
     "output_type": "stream",
     "text": [
      "Starting timer for for...loop timer\n",
      "for...loop timer\n",
      "Timer for for...loop timer finished. Elapsed time: 0.0449 seconds\n"
     ]
    }
   ],
   "source": [
    "with Timer(\"for...loop timer\") as timer:\n",
    "    print(timer.name)\n",
    "    for _ in range(1000000):\n",
    "        pass"
   ]
  },
  {
   "cell_type": "code",
   "execution_count": null,
   "metadata": {},
   "outputs": [],
   "source": []
  }
 ],
 "metadata": {
  "kernelspec": {
   "display_name": "ds-env",
   "language": "python",
   "name": "python3"
  },
  "language_info": {
   "codemirror_mode": {
    "name": "ipython",
    "version": 3
   },
   "file_extension": ".py",
   "mimetype": "text/x-python",
   "name": "python",
   "nbconvert_exporter": "python",
   "pygments_lexer": "ipython3",
   "version": "3.12.9"
  }
 },
 "nbformat": 4,
 "nbformat_minor": 2
}
