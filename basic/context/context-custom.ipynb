{
 "cells": [
  {
   "cell_type": "markdown",
   "metadata": {},
   "source": [
    "# Context Manager (Custom)"
   ]
  },
  {
   "cell_type": "code",
   "execution_count": 1,
   "metadata": {},
   "outputs": [],
   "source": [
    "import time"
   ]
  },
  {
   "cell_type": "markdown",
   "metadata": {},
   "source": [
    "## `@contextmanager` Decorator"
   ]
  },
  {
   "cell_type": "markdown",
   "metadata": {},
   "source": [
    "### `file_manager()`"
   ]
  },
  {
   "cell_type": "code",
   "execution_count": 2,
   "metadata": {},
   "outputs": [],
   "source": [
    "import time\n",
    "from contextlib import contextmanager\n",
    "from typing import Generator, IO, Any\n"
   ]
  },
  {
   "cell_type": "code",
   "execution_count": 3,
   "metadata": {},
   "outputs": [],
   "source": [
    "@contextmanager\n",
    "def file_manager(path: str, mode: str) -> Generator[IO, Any, None]:\n",
    "    file: IO = open(path, mode)\n",
    "    print('Opening file...')\n",
    "    try:\n",
    "        yield file\n",
    "    finally:\n",
    "        print('Closing file...')\n",
    "        if file:\n",
    "            file.close()"
   ]
  },
  {
   "cell_type": "code",
   "execution_count": 6,
   "metadata": {},
   "outputs": [
    {
     "name": "stdout",
     "output_type": "stream",
     "text": [
      "Opening file...\n",
      "Closing file...\n"
     ]
    },
    {
     "ename": "Exception",
     "evalue": "something bad happens!",
     "output_type": "error",
     "traceback": [
      "\u001b[0;31m---------------------------------------------------------------------------\u001b[0m",
      "\u001b[0;31mException\u001b[0m                                 Traceback (most recent call last)",
      "Cell \u001b[0;32mIn[6], line 2\u001b[0m\n\u001b[1;32m      1\u001b[0m \u001b[38;5;28;01mwith\u001b[39;00m file_manager(\u001b[38;5;124m\"\u001b[39m\u001b[38;5;124mhello.txt\u001b[39m\u001b[38;5;124m\"\u001b[39m, mode\u001b[38;5;241m=\u001b[39m\u001b[38;5;124m\"\u001b[39m\u001b[38;5;124mr\u001b[39m\u001b[38;5;124m\"\u001b[39m) \u001b[38;5;28;01mas\u001b[39;00m f:\n\u001b[0;32m----> 2\u001b[0m     \u001b[38;5;28;01mraise\u001b[39;00m \u001b[38;5;167;01mException\u001b[39;00m(\u001b[38;5;124m\"\u001b[39m\u001b[38;5;124msomething bad happens!\u001b[39m\u001b[38;5;124m\"\u001b[39m)\n\u001b[1;32m      3\u001b[0m     \u001b[38;5;28mprint\u001b[39m(f\u001b[38;5;241m.\u001b[39mread())\n",
      "\u001b[0;31mException\u001b[0m: something bad happens!"
     ]
    }
   ],
   "source": [
    "with file_manager(\"hello.txt\", mode=\"r\") as f:\n",
    "    raise Exception(\"something bad happens!\")\n",
    "    print(f.read())"
   ]
  },
  {
   "cell_type": "markdown",
   "metadata": {},
   "source": [
    "### `timer()` ⭐️"
   ]
  },
  {
   "cell_type": "code",
   "execution_count": 51,
   "metadata": {},
   "outputs": [],
   "source": [
    "@contextmanager\n",
    "def timer():\n",
    "    start_time: float = time.perf_counter()\n",
    "    try:\n",
    "        yield lambda: elapsed\n",
    "    finally:\n",
    "        elapsed = time.perf_counter() - start_time\n",
    "        print(f'Time: {elapsed:.4f}s')"
   ]
  },
  {
   "cell_type": "code",
   "execution_count": 52,
   "metadata": {},
   "outputs": [
    {
     "name": "stdout",
     "output_type": "stream",
     "text": [
      "Time: 0.3740s\n"
     ]
    }
   ],
   "source": [
    "with timer() as t:\n",
    "    text = \"\"\n",
    "    for i in range(100_000):\n",
    "        text += str(i)"
   ]
  },
  {
   "cell_type": "code",
   "execution_count": 53,
   "metadata": {},
   "outputs": [
    {
     "data": {
      "text/plain": [
       "0.3740487500326708"
      ]
     },
     "execution_count": 53,
     "metadata": {},
     "output_type": "execute_result"
    }
   ],
   "source": [
    "t()"
   ]
  },
  {
   "cell_type": "markdown",
   "metadata": {},
   "source": [
    "### `timer()` start & end"
   ]
  },
  {
   "cell_type": "code",
   "execution_count": 54,
   "metadata": {},
   "outputs": [],
   "source": [
    "from datetime import datetime\n",
    "\n",
    "@contextmanager\n",
    "def timer2():\n",
    "    start_time: float = time.perf_counter()\n",
    "    print(f\"Started at: {datetime.now():%H:%M:%S}\")\n",
    "    try:\n",
    "        yield lambda: elapsed\n",
    "    finally:\n",
    "        elapsed = time.perf_counter() - start_time\n",
    "        print(f\"Ended at: {datetime.now():%H:%M:%S}\")\n",
    "        print(f'Time: {elapsed:.4f}s')"
   ]
  },
  {
   "cell_type": "code",
   "execution_count": 55,
   "metadata": {},
   "outputs": [
    {
     "name": "stdout",
     "output_type": "stream",
     "text": [
      "Started at: 16:36:24\n",
      "Ended at: 16:36:24\n",
      "Time: 0.3461s\n"
     ]
    }
   ],
   "source": [
    "with timer2() as t2:\n",
    "    text = \"\"\n",
    "    for i in range(100_000):\n",
    "        text += str(i)"
   ]
  },
  {
   "cell_type": "markdown",
   "metadata": {},
   "source": [
    "## Timer Class"
   ]
  },
  {
   "cell_type": "code",
   "execution_count": 7,
   "metadata": {},
   "outputs": [],
   "source": [
    "class Timer:\n",
    "    def __init__(self, name: str):\n",
    "        self.name = name\n",
    "    def __enter__(self):\n",
    "        self._start_time = time.perf_counter()\n",
    "        print(f\"Starting timer for {self.name}\")\n",
    "        return self\n",
    "    def __exit__(self, exc_type, exc_value, traceback):\n",
    "        self._end_time = time.perf_counter()\n",
    "        elapsed_time = self._end_time - self._start_time\n",
    "        print(f\"Timer for {self.name} finished. Elapsed time: {elapsed_time:.4f} seconds\")"
   ]
  },
  {
   "cell_type": "code",
   "execution_count": 8,
   "metadata": {},
   "outputs": [
    {
     "name": "stdout",
     "output_type": "stream",
     "text": [
      "Starting timer for for...loop timer\n",
      "for...loop timer\n",
      "Timer for for...loop timer finished. Elapsed time: 0.0449 seconds\n"
     ]
    }
   ],
   "source": [
    "with Timer(\"for...loop timer\") as timer:\n",
    "    print(timer.name)\n",
    "    for _ in range(1000000):\n",
    "        pass"
   ]
  },
  {
   "cell_type": "code",
   "execution_count": null,
   "metadata": {},
   "outputs": [],
   "source": []
  }
 ],
 "metadata": {
  "kernelspec": {
   "display_name": "ds-env",
   "language": "python",
   "name": "python3"
  },
  "language_info": {
   "codemirror_mode": {
    "name": "ipython",
    "version": 3
   },
   "file_extension": ".py",
   "mimetype": "text/x-python",
   "name": "python",
   "nbconvert_exporter": "python",
   "pygments_lexer": "ipython3",
   "version": "3.12.9"
  }
 },
 "nbformat": 4,
 "nbformat_minor": 2
}
