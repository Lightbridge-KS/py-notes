{
 "cells": [
  {
   "cell_type": "markdown",
   "metadata": {},
   "source": [
    "# Type Checking (Pure)"
   ]
  },
  {
   "cell_type": "markdown",
   "metadata": {
    "vscode": {
     "languageId": "plaintext"
    }
   },
   "source": [
    "If you want to perform type hints and data validation in pure Python (i.e., without relying on C extensions or external compiled components), there are several popular packages you can consider. Below are some packages that are both widely used and implemented in pure Python."
   ]
  },
  {
   "cell_type": "markdown",
   "metadata": {},
   "source": [
    "## `dataclasses` \n",
    "\n",
    "(Python 3.7+)\n",
    "\n",
    "- **Type:** Built-in module\n",
    "- **Use Case:** Type hinting, simple data modeling, and validation with dataclass decorators."
   ]
  },
  {
   "cell_type": "code",
   "execution_count": 4,
   "metadata": {},
   "outputs": [
    {
     "name": "stdout",
     "output_type": "stream",
     "text": [
      "Error: Age must be between 0 and 120, got 150\n"
     ]
    }
   ],
   "source": [
    "from dataclasses import dataclass\n",
    "\n",
    "@dataclass\n",
    "class User:\n",
    "    name: str\n",
    "    age: int\n",
    "\n",
    "    def __post_init__(self):\n",
    "        if not isinstance(self.name, str):\n",
    "            raise TypeError(f\"Expected name to be a str, got {type(self.name)}\")\n",
    "        if not (0 <= self.age <= 120):\n",
    "            raise ValueError(f\"Age must be between 0 and 120, got {self.age}\")\n",
    "\n",
    "# Usage\n",
    "user = User(name=\"Alice\", age=30)  # Valid\n",
    "\n",
    "try:\n",
    "    user = User(name=\"Alice\", age=150)  # Raises ValueError\n",
    "except ValueError as e:\n",
    "    print(f\"Error: {e}\")\n"
   ]
  },
  {
   "cell_type": "markdown",
   "metadata": {},
   "source": [
    "## `TypedDict`\n",
    "\n",
    "(Python 3.8+)\n",
    "- **Type:** Built-in module (typing.TypedDict)\n",
    "- **Use Case:** Type hinting for dictionaries, lightweight validation."
   ]
  },
  {
   "cell_type": "code",
   "execution_count": 5,
   "metadata": {},
   "outputs": [],
   "source": [
    "from typing import TypedDict\n",
    "\n",
    "class User(TypedDict):\n",
    "    name: str\n",
    "    age: int\n",
    "\n",
    "# Usage\n",
    "user: User = {\"name\": \"Alice\", \"age\": 30}  # Valid\n"
   ]
  }
 ],
 "metadata": {
  "kernelspec": {
   "display_name": "ds-env",
   "language": "python",
   "name": "python3"
  },
  "language_info": {
   "codemirror_mode": {
    "name": "ipython",
    "version": 3
   },
   "file_extension": ".py",
   "mimetype": "text/x-python",
   "name": "python",
   "nbconvert_exporter": "python",
   "pygments_lexer": "ipython3",
   "version": "3.12.2"
  }
 },
 "nbformat": 4,
 "nbformat_minor": 2
}
