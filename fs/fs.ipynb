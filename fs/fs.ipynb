{
 "cells": [
  {
   "cell_type": "markdown",
   "metadata": {},
   "source": [
    "# FS\n",
    "\n",
    "Python functions similar to R's [`{fs}`](https://fs.r-lib.org)"
   ]
  },
  {
   "cell_type": "code",
   "execution_count": 2,
   "metadata": {},
   "outputs": [],
   "source": [
    "import pandas as pd\n",
    "from siuba import _, group_by, mutate, select\n",
    "import fs"
   ]
  },
  {
   "cell_type": "markdown",
   "metadata": {},
   "source": [
    "## List Directory"
   ]
  },
  {
   "cell_type": "code",
   "execution_count": 25,
   "metadata": {},
   "outputs": [
    {
     "data": {
      "text/plain": [
       "[PosixPath('d/test1.txt'), PosixPath('d/e2'), PosixPath('d/e1')]"
      ]
     },
     "execution_count": 25,
     "metadata": {},
     "output_type": "execute_result"
    }
   ],
   "source": [
    "from pathlib import Path\n",
    "\n",
    "def dir_ls(path):\n",
    "    return [p for p in Path(path).iterdir()]\n",
    "\n",
    "\n",
    "dir_ls(\"d\")\n"
   ]
  },
  {
   "cell_type": "markdown",
   "metadata": {},
   "source": [
    "### Custom Implement"
   ]
  },
  {
   "cell_type": "code",
   "execution_count": 7,
   "metadata": {},
   "outputs": [
    {
     "data": {
      "text/plain": [
       "[PosixPath('d/test1.txt'),\n",
       " PosixPath('d/e2'),\n",
       " PosixPath('d/e2/test3.txt'),\n",
       " PosixPath('d/e1'),\n",
       " PosixPath('d/e1/test2.txt'),\n",
       " PosixPath('d/e1/test2-copy.txt')]"
      ]
     },
     "execution_count": 7,
     "metadata": {},
     "output_type": "execute_result"
    }
   ],
   "source": [
    "d_paths = fs.dir_ls(\"d\", recurse=True)\n",
    "d_paths"
   ]
  },
  {
   "cell_type": "code",
   "execution_count": 50,
   "metadata": {},
   "outputs": [
    {
     "data": {
      "text/html": [
       "<div>\n",
       "<style scoped>\n",
       "    .dataframe tbody tr th:only-of-type {\n",
       "        vertical-align: middle;\n",
       "    }\n",
       "\n",
       "    .dataframe tbody tr th {\n",
       "        vertical-align: top;\n",
       "    }\n",
       "\n",
       "    .dataframe thead th {\n",
       "        text-align: right;\n",
       "    }\n",
       "</style>\n",
       "<table border=\"1\" class=\"dataframe\">\n",
       "  <thead>\n",
       "    <tr style=\"text-align: right;\">\n",
       "      <th></th>\n",
       "      <th>paths</th>\n",
       "    </tr>\n",
       "  </thead>\n",
       "  <tbody>\n",
       "    <tr>\n",
       "      <th>0</th>\n",
       "      <td>d/test1.txt</td>\n",
       "    </tr>\n",
       "    <tr>\n",
       "      <th>1</th>\n",
       "      <td>d/e2</td>\n",
       "    </tr>\n",
       "    <tr>\n",
       "      <th>2</th>\n",
       "      <td>d/e2/test3.txt</td>\n",
       "    </tr>\n",
       "    <tr>\n",
       "      <th>3</th>\n",
       "      <td>d/e1</td>\n",
       "    </tr>\n",
       "    <tr>\n",
       "      <th>4</th>\n",
       "      <td>d/e1/test2.txt</td>\n",
       "    </tr>\n",
       "    <tr>\n",
       "      <th>5</th>\n",
       "      <td>d/e1/test2-copy.txt</td>\n",
       "    </tr>\n",
       "  </tbody>\n",
       "</table>\n",
       "</div>"
      ],
      "text/plain": [
       "                 paths\n",
       "0          d/test1.txt\n",
       "1                 d/e2\n",
       "2       d/e2/test3.txt\n",
       "3                 d/e1\n",
       "4       d/e1/test2.txt\n",
       "5  d/e1/test2-copy.txt"
      ]
     },
     "execution_count": 50,
     "metadata": {},
     "output_type": "execute_result"
    }
   ],
   "source": [
    "d_paths_df = pd.DataFrame({\"paths\": d_paths})\n",
    "d_paths_df"
   ]
  },
  {
   "cell_type": "markdown",
   "metadata": {},
   "source": [
    "## File Name"
   ]
  },
  {
   "cell_type": "code",
   "execution_count": 36,
   "metadata": {},
   "outputs": [],
   "source": [
    "from pathlib import Path\n",
    "from typing import Union, List\n",
    "\n",
    "def path_file(path: Union[str, Path, List[str], List[Path]]) -> Union[Path, List[Path]]:\n",
    "    \"\"\"Get filename(s) from path(s).\n",
    "\n",
    "    Parameters\n",
    "    ----------\n",
    "    path : str, Path, or list of str/Path\n",
    "        Single path or list of paths\n",
    "\n",
    "    Returns\n",
    "    -------\n",
    "    Path or list of Path\n",
    "        Filename(s) as PosixPath object(s)\n",
    "    \"\"\"\n",
    "    if isinstance(path, (str, Path)):\n",
    "        return Path(Path(path).name)\n",
    "    return [Path(Path(p).name) for p in path]"
   ]
  },
  {
   "cell_type": "code",
   "execution_count": 55,
   "metadata": {},
   "outputs": [
    {
     "name": "stdout",
     "output_type": "stream",
     "text": [
      "d/test1.txt\n"
     ]
    },
    {
     "data": {
      "text/plain": [
       "PosixPath('test1.txt')"
      ]
     },
     "execution_count": 55,
     "metadata": {},
     "output_type": "execute_result"
    }
   ],
   "source": [
    "print(d_paths_df['paths'][0])\n",
    "path_file(d_paths_df['paths'][0])"
   ]
  },
  {
   "cell_type": "code",
   "execution_count": 53,
   "metadata": {},
   "outputs": [
    {
     "data": {
      "text/html": [
       "<div>\n",
       "<style scoped>\n",
       "    .dataframe tbody tr th:only-of-type {\n",
       "        vertical-align: middle;\n",
       "    }\n",
       "\n",
       "    .dataframe tbody tr th {\n",
       "        vertical-align: top;\n",
       "    }\n",
       "\n",
       "    .dataframe thead th {\n",
       "        text-align: right;\n",
       "    }\n",
       "</style>\n",
       "<table border=\"1\" class=\"dataframe\">\n",
       "  <thead>\n",
       "    <tr style=\"text-align: right;\">\n",
       "      <th></th>\n",
       "      <th>paths</th>\n",
       "      <th>file_name</th>\n",
       "    </tr>\n",
       "  </thead>\n",
       "  <tbody>\n",
       "    <tr>\n",
       "      <th>0</th>\n",
       "      <td>d/test1.txt</td>\n",
       "      <td>test1.txt</td>\n",
       "    </tr>\n",
       "    <tr>\n",
       "      <th>1</th>\n",
       "      <td>d/e2</td>\n",
       "      <td>e2</td>\n",
       "    </tr>\n",
       "    <tr>\n",
       "      <th>2</th>\n",
       "      <td>d/e2/test3.txt</td>\n",
       "      <td>test3.txt</td>\n",
       "    </tr>\n",
       "    <tr>\n",
       "      <th>3</th>\n",
       "      <td>d/e1</td>\n",
       "      <td>e1</td>\n",
       "    </tr>\n",
       "    <tr>\n",
       "      <th>4</th>\n",
       "      <td>d/e1/test2.txt</td>\n",
       "      <td>test2.txt</td>\n",
       "    </tr>\n",
       "    <tr>\n",
       "      <th>5</th>\n",
       "      <td>d/e1/test2-copy.txt</td>\n",
       "      <td>test2-copy.txt</td>\n",
       "    </tr>\n",
       "  </tbody>\n",
       "</table>\n",
       "</div>"
      ],
      "text/plain": [
       "                 paths       file_name\n",
       "0          d/test1.txt       test1.txt\n",
       "1                 d/e2              e2\n",
       "2       d/e2/test3.txt       test3.txt\n",
       "3                 d/e1              e1\n",
       "4       d/e1/test2.txt       test2.txt\n",
       "5  d/e1/test2-copy.txt  test2-copy.txt"
      ]
     },
     "execution_count": 53,
     "metadata": {},
     "output_type": "execute_result"
    }
   ],
   "source": [
    "d_paths_df.assign(file_name = path_file(d_paths_df[\"paths\"]))"
   ]
  },
  {
   "cell_type": "markdown",
   "metadata": {},
   "source": [
    "## Copy file"
   ]
  },
  {
   "cell_type": "code",
   "execution_count": null,
   "metadata": {},
   "outputs": [],
   "source": [
    "import shutil\n",
    "from pathlib import Path\n",
    "\n",
    "def file_copy(src, dst):\n",
    "    shutil.copy2(src, dst)\n"
   ]
  },
  {
   "cell_type": "code",
   "execution_count": null,
   "metadata": {},
   "outputs": [],
   "source": [
    "# Example usage:\n",
    "file_copy(\"d/e1/test2.txt\", \"d/e1/test2-copy.txt\")"
   ]
  },
  {
   "cell_type": "markdown",
   "metadata": {},
   "source": [
    "### Custom Function"
   ]
  },
  {
   "cell_type": "code",
   "execution_count": 4,
   "metadata": {},
   "outputs": [],
   "source": [
    "fs.file_copy(path = [\"d/e1/test2.txt\", \"d/e2/test3.txt\"],\n",
    "             new_path = [\"d/e1/test2-cp.txt\", \"d/e2/test3-cp.txt\"],\n",
    "             overwrite = True)"
   ]
  },
  {
   "cell_type": "code",
   "execution_count": 6,
   "metadata": {},
   "outputs": [
    {
     "data": {
      "text/plain": [
       "[PosixPath('d/test1.txt'),\n",
       " PosixPath('d/e2'),\n",
       " PosixPath('d/e2/test3.txt'),\n",
       " PosixPath('d/e2/test3-cp.txt'),\n",
       " PosixPath('d/e1'),\n",
       " PosixPath('d/e1/test2.txt'),\n",
       " PosixPath('d/e1/test2-cp.txt'),\n",
       " PosixPath('d/e1/test2-copy.txt')]"
      ]
     },
     "execution_count": 6,
     "metadata": {},
     "output_type": "execute_result"
    }
   ],
   "source": [
    "fs.dir_ls(\"d\", recurse=True)"
   ]
  }
 ],
 "metadata": {
  "kernelspec": {
   "display_name": "ds-env",
   "language": "python",
   "name": "python3"
  },
  "language_info": {
   "codemirror_mode": {
    "name": "ipython",
    "version": 3
   },
   "file_extension": ".py",
   "mimetype": "text/x-python",
   "name": "python",
   "nbconvert_exporter": "python",
   "pygments_lexer": "ipython3",
   "version": "3.12.2"
  }
 },
 "nbformat": 4,
 "nbformat_minor": 2
}
